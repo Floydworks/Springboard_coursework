{
 "cells": [
  {
   "cell_type": "markdown",
   "id": "761cf8c3",
   "metadata": {},
   "source": [
    "# Relax Inc. Challenge\n"
   ]
  },
  {
   "cell_type": "markdown",
   "id": "6828ffd2",
   "metadata": {},
   "source": [
    "Defining an \"adopted user\" as a user who has logged into the product on three separate\n",
    "days in at least one sevenday period, \n",
    "<br>**identify which factors predict future user adoption.**\n",
    "\n",
    "<br>We suggest spending 1 to 2 hours on this, but you're welcome to spend more or less.\n",
    "Please send us a brief writeup of your findings (the more concise, the better no\n",
    "more than one page), along with any summary tables, graphs, code, or queries that can help\n",
    "us understand your approach. Please note any factors you considered or investigation\n",
    "you did, even if they did not pan out. Feel free to identify any further research or data\n",
    "you think would be valuable."
   ]
  },
  {
   "cell_type": "code",
   "execution_count": 77,
   "id": "b48bb4bd",
   "metadata": {},
   "outputs": [],
   "source": [
    "import pandas as pd\n",
    "import numpy as np\n",
    "import datetime as dt\n",
    "\n",
    "import matplotlib.pyplot as plt "
   ]
  },
  {
   "cell_type": "markdown",
   "id": "7044d839",
   "metadata": {},
   "source": [
    "# Import data\n",
    " - **\"takehome_users\"** : A user table with data on 12,000 users who signed up for the product in the last two years.\n",
    " - **\"takehome_user_engagement\"** : A usage summary table that has a row for each day that a user logged into the product."
   ]
  },
  {
   "cell_type": "code",
   "execution_count": 78,
   "id": "e22c110c",
   "metadata": {},
   "outputs": [],
   "source": [
    "# User table with data on 12,000 users who signed up for the product in the last two years.\n",
    "df_user = pd.read_csv('/Users/sandidge/Desktop/Python_Projects/Springboard_coursework/RelaxInc_takehome/takehome_users.csv', parse_dates=['creation_time', 'last_session_creation_time'], encoding = \"cp1252\")\n",
    "\n",
    "# Usage summary table that has a row for each day that a user logged into the product.\n",
    "df_engage = pd.read_csv('/Users/sandidge/Desktop/Python_Projects/Springboard_coursework/RelaxInc_takehome/takehome_user_engagement.csv', parse_dates=['time_stamp'])\n",
    "\n"
   ]
  },
  {
   "cell_type": "code",
   "execution_count": 79,
   "id": "c0f6c79d",
   "metadata": {},
   "outputs": [
    {
     "name": "stdout",
     "output_type": "stream",
     "text": [
      "UTF-8\n"
     ]
    }
   ],
   "source": [
    "# there is an issue with takehome_users, check encoding\n",
    "with open(\"takehome_users.csv\") as f:\n",
    "    print(f.encoding)"
   ]
  },
  {
   "cell_type": "markdown",
   "id": "5f9f6e51",
   "metadata": {},
   "source": [
    "# Exploratory Data Analysis"
   ]
  },
  {
   "cell_type": "markdown",
   "id": "d2291330",
   "metadata": {},
   "source": [
    "## Engagement data: takehome_user_engagement.csv"
   ]
  },
  {
   "cell_type": "code",
   "execution_count": 80,
   "id": "08a9552d",
   "metadata": {},
   "outputs": [
    {
     "name": "stdout",
     "output_type": "stream",
     "text": [
      "<class 'pandas.core.frame.DataFrame'>\n",
      "RangeIndex: 207917 entries, 0 to 207916\n",
      "Data columns (total 3 columns):\n",
      " #   Column      Non-Null Count   Dtype         \n",
      "---  ------      --------------   -----         \n",
      " 0   time_stamp  207917 non-null  datetime64[ns]\n",
      " 1   user_id     207917 non-null  int64         \n",
      " 2   visited     207917 non-null  int64         \n",
      "dtypes: datetime64[ns](1), int64(2)\n",
      "memory usage: 4.8 MB\n"
     ]
    },
    {
     "data": {
      "text/html": [
       "<div>\n",
       "<style scoped>\n",
       "    .dataframe tbody tr th:only-of-type {\n",
       "        vertical-align: middle;\n",
       "    }\n",
       "\n",
       "    .dataframe tbody tr th {\n",
       "        vertical-align: top;\n",
       "    }\n",
       "\n",
       "    .dataframe thead th {\n",
       "        text-align: right;\n",
       "    }\n",
       "</style>\n",
       "<table border=\"1\" class=\"dataframe\">\n",
       "  <thead>\n",
       "    <tr style=\"text-align: right;\">\n",
       "      <th></th>\n",
       "      <th>time_stamp</th>\n",
       "      <th>user_id</th>\n",
       "      <th>visited</th>\n",
       "    </tr>\n",
       "  </thead>\n",
       "  <tbody>\n",
       "    <tr>\n",
       "      <th>0</th>\n",
       "      <td>2014-04-22 03:53:30</td>\n",
       "      <td>1</td>\n",
       "      <td>1</td>\n",
       "    </tr>\n",
       "    <tr>\n",
       "      <th>1</th>\n",
       "      <td>2013-11-15 03:45:04</td>\n",
       "      <td>2</td>\n",
       "      <td>1</td>\n",
       "    </tr>\n",
       "    <tr>\n",
       "      <th>2</th>\n",
       "      <td>2013-11-29 03:45:04</td>\n",
       "      <td>2</td>\n",
       "      <td>1</td>\n",
       "    </tr>\n",
       "    <tr>\n",
       "      <th>3</th>\n",
       "      <td>2013-12-09 03:45:04</td>\n",
       "      <td>2</td>\n",
       "      <td>1</td>\n",
       "    </tr>\n",
       "    <tr>\n",
       "      <th>4</th>\n",
       "      <td>2013-12-25 03:45:04</td>\n",
       "      <td>2</td>\n",
       "      <td>1</td>\n",
       "    </tr>\n",
       "  </tbody>\n",
       "</table>\n",
       "</div>"
      ],
      "text/plain": [
       "           time_stamp  user_id  visited\n",
       "0 2014-04-22 03:53:30        1        1\n",
       "1 2013-11-15 03:45:04        2        1\n",
       "2 2013-11-29 03:45:04        2        1\n",
       "3 2013-12-09 03:45:04        2        1\n",
       "4 2013-12-25 03:45:04        2        1"
      ]
     },
     "execution_count": 80,
     "metadata": {},
     "output_type": "execute_result"
    }
   ],
   "source": [
    "df_engage.info()\n",
    "df_engage.head()"
   ]
  },
  {
   "cell_type": "code",
   "execution_count": 81,
   "id": "9f9fa810",
   "metadata": {},
   "outputs": [
    {
     "data": {
      "text/html": [
       "<div>\n",
       "<style scoped>\n",
       "    .dataframe tbody tr th:only-of-type {\n",
       "        vertical-align: middle;\n",
       "    }\n",
       "\n",
       "    .dataframe tbody tr th {\n",
       "        vertical-align: top;\n",
       "    }\n",
       "\n",
       "    .dataframe thead th {\n",
       "        text-align: right;\n",
       "    }\n",
       "</style>\n",
       "<table border=\"1\" class=\"dataframe\">\n",
       "  <thead>\n",
       "    <tr style=\"text-align: right;\">\n",
       "      <th></th>\n",
       "      <th>user_id</th>\n",
       "      <th>visited</th>\n",
       "    </tr>\n",
       "  </thead>\n",
       "  <tbody>\n",
       "    <tr>\n",
       "      <th>count</th>\n",
       "      <td>207917.000000</td>\n",
       "      <td>207917.0</td>\n",
       "    </tr>\n",
       "    <tr>\n",
       "      <th>mean</th>\n",
       "      <td>5913.314197</td>\n",
       "      <td>1.0</td>\n",
       "    </tr>\n",
       "    <tr>\n",
       "      <th>std</th>\n",
       "      <td>3394.941674</td>\n",
       "      <td>0.0</td>\n",
       "    </tr>\n",
       "    <tr>\n",
       "      <th>min</th>\n",
       "      <td>1.000000</td>\n",
       "      <td>1.0</td>\n",
       "    </tr>\n",
       "    <tr>\n",
       "      <th>25%</th>\n",
       "      <td>3087.000000</td>\n",
       "      <td>1.0</td>\n",
       "    </tr>\n",
       "    <tr>\n",
       "      <th>50%</th>\n",
       "      <td>5682.000000</td>\n",
       "      <td>1.0</td>\n",
       "    </tr>\n",
       "    <tr>\n",
       "      <th>75%</th>\n",
       "      <td>8944.000000</td>\n",
       "      <td>1.0</td>\n",
       "    </tr>\n",
       "    <tr>\n",
       "      <th>max</th>\n",
       "      <td>12000.000000</td>\n",
       "      <td>1.0</td>\n",
       "    </tr>\n",
       "  </tbody>\n",
       "</table>\n",
       "</div>"
      ],
      "text/plain": [
       "             user_id   visited\n",
       "count  207917.000000  207917.0\n",
       "mean     5913.314197       1.0\n",
       "std      3394.941674       0.0\n",
       "min         1.000000       1.0\n",
       "25%      3087.000000       1.0\n",
       "50%      5682.000000       1.0\n",
       "75%      8944.000000       1.0\n",
       "max     12000.000000       1.0"
      ]
     },
     "execution_count": 81,
     "metadata": {},
     "output_type": "execute_result"
    }
   ],
   "source": [
    "df_engage.describe()"
   ]
  },
  {
   "cell_type": "markdown",
   "id": "b8826c8e",
   "metadata": {},
   "source": [
    "### Engagement over time"
   ]
  },
  {
   "cell_type": "code",
   "execution_count": 82,
   "id": "dfbe7ce9",
   "metadata": {},
   "outputs": [
    {
     "name": "stdout",
     "output_type": "stream",
     "text": [
      "2012-05-31 08:20:06\n",
      "2014-06-06 14:58:50\n"
     ]
    }
   ],
   "source": [
    "print(df_engage.time_stamp.min())\n",
    "print(df_engage.time_stamp.max())"
   ]
  },
  {
   "cell_type": "code",
   "execution_count": 83,
   "id": "238dcbed",
   "metadata": {},
   "outputs": [],
   "source": [
    "#convert timestamps to dates\n",
    "df_engage['date'] = df_engage['time_stamp'].dt.date\n",
    "\n",
    "# Table of users each day\n",
    "daily_users = df_engage.groupby(['date'])['user_id'].count().to_frame().reset_index()\n"
   ]
  },
  {
   "cell_type": "code",
   "execution_count": 84,
   "id": "970803d1",
   "metadata": {},
   "outputs": [
    {
     "data": {
      "image/png": "[encoded data removed]",
      "text/plain": [
       "<Figure size 648x288 with 1 Axes>"
      ]
     },
     "metadata": {
      "needs_background": "light"
     },
     "output_type": "display_data"
    }
   ],
   "source": [
    "# Look at number of users each day\n",
    "plt.rcParams[\"figure.figsize\"] = (9,4)\n",
    "\n",
    "plt.plot(daily_users['date'], daily_users['user_id'])\n",
    "plt.xlabel('Date', fontsize = 15)\n",
    "plt.ylabel('Number of users', fontsize = 15)\n",
    "plt.title('Daily activity', fontsize = 20)\n",
    "\n",
    "plt.show()\n",
    "\n"
   ]
  },
  {
   "cell_type": "markdown",
   "id": "017599b4",
   "metadata": {},
   "source": [
    "### Visits by each user"
   ]
  },
  {
   "cell_type": "code",
   "execution_count": 85,
   "id": "ac57b2d8",
   "metadata": {},
   "outputs": [
    {
     "data": {
      "text/html": [
       "<div>\n",
       "<style scoped>\n",
       "    .dataframe tbody tr th:only-of-type {\n",
       "        vertical-align: middle;\n",
       "    }\n",
       "\n",
       "    .dataframe tbody tr th {\n",
       "        vertical-align: top;\n",
       "    }\n",
       "\n",
       "    .dataframe thead th {\n",
       "        text-align: right;\n",
       "    }\n",
       "</style>\n",
       "<table border=\"1\" class=\"dataframe\">\n",
       "  <thead>\n",
       "    <tr style=\"text-align: right;\">\n",
       "      <th></th>\n",
       "      <th>user_id</th>\n",
       "      <th>visited</th>\n",
       "    </tr>\n",
       "  </thead>\n",
       "  <tbody>\n",
       "    <tr>\n",
       "      <th>2652</th>\n",
       "      <td>3623</td>\n",
       "      <td>606</td>\n",
       "    </tr>\n",
       "    <tr>\n",
       "      <th>657</th>\n",
       "      <td>906</td>\n",
       "      <td>600</td>\n",
       "    </tr>\n",
       "    <tr>\n",
       "      <th>1315</th>\n",
       "      <td>1811</td>\n",
       "      <td>593</td>\n",
       "    </tr>\n",
       "    <tr>\n",
       "      <th>5548</th>\n",
       "      <td>7590</td>\n",
       "      <td>590</td>\n",
       "    </tr>\n",
       "    <tr>\n",
       "      <th>5877</th>\n",
       "      <td>8068</td>\n",
       "      <td>585</td>\n",
       "    </tr>\n",
       "    <tr>\n",
       "      <th>...</th>\n",
       "      <td>...</td>\n",
       "      <td>...</td>\n",
       "    </tr>\n",
       "    <tr>\n",
       "      <th>3440</th>\n",
       "      <td>4699</td>\n",
       "      <td>1</td>\n",
       "    </tr>\n",
       "    <tr>\n",
       "      <th>3439</th>\n",
       "      <td>4698</td>\n",
       "      <td>1</td>\n",
       "    </tr>\n",
       "    <tr>\n",
       "      <th>3438</th>\n",
       "      <td>4697</td>\n",
       "      <td>1</td>\n",
       "    </tr>\n",
       "    <tr>\n",
       "      <th>3437</th>\n",
       "      <td>4696</td>\n",
       "      <td>1</td>\n",
       "    </tr>\n",
       "    <tr>\n",
       "      <th>8822</th>\n",
       "      <td>12000</td>\n",
       "      <td>1</td>\n",
       "    </tr>\n",
       "  </tbody>\n",
       "</table>\n",
       "<p>8823 rows × 2 columns</p>\n",
       "</div>"
      ],
      "text/plain": [
       "      user_id  visited\n",
       "2652     3623      606\n",
       "657       906      600\n",
       "1315     1811      593\n",
       "5548     7590      590\n",
       "5877     8068      585\n",
       "...       ...      ...\n",
       "3440     4699        1\n",
       "3439     4698        1\n",
       "3438     4697        1\n",
       "3437     4696        1\n",
       "8822    12000        1\n",
       "\n",
       "[8823 rows x 2 columns]"
      ]
     },
     "execution_count": 85,
     "metadata": {},
     "output_type": "execute_result"
    }
   ],
   "source": [
    "# Count user visits\n",
    "user_visits = df_engage.groupby(['user_id'])['visited'].sum().to_frame().reset_index().sort_values(by='visited', ascending = False)\n",
    "user_visits\n"
   ]
  },
  {
   "cell_type": "code",
   "execution_count": 86,
   "id": "ef06d6d1",
   "metadata": {},
   "outputs": [
    {
     "data": {
      "image/png": "[encoded data removed]",
      "text/plain": [
       "<Figure size 1296x432 with 2 Axes>"
      ]
     },
     "metadata": {
      "needs_background": "light"
     },
     "output_type": "display_data"
    }
   ],
   "source": [
    "#set figure size\n",
    "plt.figure(figsize=(18, 6))\n",
    "\n",
    "# Histogram of number of visits by individual users\n",
    "plt.subplot(131)\n",
    "plt.hist(user_visits['visited'], bins = 20)\n",
    "plt.xlabel('Number of visits', fontsize = 15)\n",
    "plt.ylabel('Number of users', fontsize = 15)\n",
    "plt.title('all users', fontsize = 15)\n",
    "\n",
    "plt.subplot(132)\n",
    "plt.hist((user_visits[user_visits['visited']>2])['visited'], bins = 20)\n",
    "plt.xlabel('Number of visits', fontsize = 15)\n",
    "plt.ylabel('Number of users', fontsize = 15)\n",
    "plt.title('users visiting at least three times', fontsize = 15)\n",
    "\n",
    "plt.suptitle('Histograms of visit frequency ', fontsize = 20, x=.4, y=1.01)\n",
    "plt.show()\n"
   ]
  },
  {
   "cell_type": "code",
   "execution_count": 87,
   "id": "769e3c3c",
   "metadata": {},
   "outputs": [
    {
     "data": {
      "text/html": [
       "<div>\n",
       "<style scoped>\n",
       "    .dataframe tbody tr th:only-of-type {\n",
       "        vertical-align: middle;\n",
       "    }\n",
       "\n",
       "    .dataframe tbody tr th {\n",
       "        vertical-align: top;\n",
       "    }\n",
       "\n",
       "    .dataframe thead th {\n",
       "        text-align: right;\n",
       "    }\n",
       "</style>\n",
       "<table border=\"1\" class=\"dataframe\">\n",
       "  <thead>\n",
       "    <tr style=\"text-align: right;\">\n",
       "      <th></th>\n",
       "      <th>visits</th>\n",
       "      <th>users</th>\n",
       "    </tr>\n",
       "  </thead>\n",
       "  <tbody>\n",
       "    <tr>\n",
       "      <th>0</th>\n",
       "      <td>1</td>\n",
       "      <td>6235</td>\n",
       "    </tr>\n",
       "    <tr>\n",
       "      <th>1</th>\n",
       "      <td>2</td>\n",
       "      <td>340</td>\n",
       "    </tr>\n",
       "    <tr>\n",
       "      <th>2</th>\n",
       "      <td>3</td>\n",
       "      <td>241</td>\n",
       "    </tr>\n",
       "    <tr>\n",
       "      <th>3</th>\n",
       "      <td>4</td>\n",
       "      <td>181</td>\n",
       "    </tr>\n",
       "    <tr>\n",
       "      <th>4</th>\n",
       "      <td>5</td>\n",
       "      <td>110</td>\n",
       "    </tr>\n",
       "    <tr>\n",
       "      <th>5</th>\n",
       "      <td>6</td>\n",
       "      <td>85</td>\n",
       "    </tr>\n",
       "    <tr>\n",
       "      <th>6</th>\n",
       "      <td>7</td>\n",
       "      <td>68</td>\n",
       "    </tr>\n",
       "    <tr>\n",
       "      <th>7</th>\n",
       "      <td>8</td>\n",
       "      <td>57</td>\n",
       "    </tr>\n",
       "    <tr>\n",
       "      <th>8</th>\n",
       "      <td>9</td>\n",
       "      <td>48</td>\n",
       "    </tr>\n",
       "    <tr>\n",
       "      <th>9</th>\n",
       "      <td>10</td>\n",
       "      <td>34</td>\n",
       "    </tr>\n",
       "  </tbody>\n",
       "</table>\n",
       "</div>"
      ],
      "text/plain": [
       "   visits  users\n",
       "0       1   6235\n",
       "1       2    340\n",
       "2       3    241\n",
       "3       4    181\n",
       "4       5    110\n",
       "5       6     85\n",
       "6       7     68\n",
       "7       8     57\n",
       "8       9     48\n",
       "9      10     34"
      ]
     },
     "execution_count": 87,
     "metadata": {},
     "output_type": "execute_result"
    }
   ],
   "source": [
    "# Table of frequency of numbers of total visits\n",
    "visit_freq = user_visits.groupby(['visited'])['visited'].count().to_frame()\\\n",
    "             .rename(columns={'visited': 'users'}).reset_index().rename(columns={'visited': 'visits'})\n",
    "visit_freq.head(10)"
   ]
  },
  {
   "cell_type": "code",
   "execution_count": 88,
   "id": "ee7ab49c",
   "metadata": {},
   "outputs": [
    {
     "name": "stdout",
     "output_type": "stream",
     "text": [
      "There are  8823  unique users in the dataset\n",
      "Number of missing ids (never logged on): 3177\n"
     ]
    }
   ],
   "source": [
    "unique_list = df_engage['user_id'].unique()\n",
    "unique_users = len(df_engage['user_id'].unique())\n",
    "print('There are ', unique_users, ' unique users in the dataset')\n",
    "\n",
    "#range_list = list(range(1,12000))\n",
    "range_set = set(range(1,12000))\n",
    "#range_list                  \n",
    "\n",
    "# prints the missing and additional elements in list2 \n",
    "missing = len((range_set.difference(set(unique_list))))\n",
    "print(\"Number of missing ids (never logged on):\", missing)\n"
   ]
  },
  {
   "cell_type": "code",
   "execution_count": 89,
   "id": "e1b3ef1e",
   "metadata": {},
   "outputs": [
    {
     "name": "stdout",
     "output_type": "stream",
     "text": [
      "26.5% percent of users never logged in\n",
      "52.0% percent of users logged in once\n"
     ]
    }
   ],
   "source": [
    "print(\"{:.1%}\".format(missing/12000)+\" percent of users never logged in\")\n",
    "print(\"{:.1%}\".format(6235/12000)+\" percent of users logged in once\")\n"
   ]
  },
  {
   "cell_type": "markdown",
   "id": "72dd0bda",
   "metadata": {},
   "source": [
    "### Define adopted users"
   ]
  },
  {
   "cell_type": "code",
   "execution_count": 90,
   "id": "ceb037b6",
   "metadata": {},
   "outputs": [],
   "source": [
    "#set time stamp as index\n",
    "df_engage = df_engage.set_index(df_engage.columns[0])"
   ]
  },
  {
   "cell_type": "code",
   "execution_count": 91,
   "id": "d72e0dec",
   "metadata": {},
   "outputs": [
    {
     "name": "stdout",
     "output_type": "stream",
     "text": [
      "1602  users were adopted\n"
     ]
    }
   ],
   "source": [
    "# sum the appearance of user ids in every 7 day rolling window\n",
    "week_windows = df_engage.groupby('user_id').rolling('7D').count()\n",
    "\n",
    "# get users who visited 3 or more times in at least one 7-day period\n",
    "week_windows_adopted = week_windows[week_windows['visited']>=3].reset_index()\n",
    "\n",
    "# get all unique adopted user ids\n",
    "adopted_user_ids = week_windows_adopted['user_id'].unique()\n",
    "print(len(adopted_user_ids), ' users were adopted')\n",
    "\n",
    "#convert to a list\n",
    "adopt_list = list(adopted_user_ids)\n",
    "\n",
    "#convert list of int to str\n",
    "adopt_list_str = list(map(str, adopt_list))"
   ]
  },
  {
   "cell_type": "code",
   "execution_count": 92,
   "id": "8458828f",
   "metadata": {},
   "outputs": [
    {
     "name": "stdout",
     "output_type": "stream",
     "text": [
      "13.4% percent of users were adopted\n"
     ]
    }
   ],
   "source": [
    "print(\"{:.1%}\".format((len(adopted_user_ids))/12000)+\" percent of users were adopted\")"
   ]
  },
  {
   "cell_type": "markdown",
   "id": "6b309f96",
   "metadata": {},
   "source": [
    "**Summary:**\n",
    "<br>Engagement rose over the two-year sample period. Users logged on a minimum of zero times and a maximum of 606 times. There are 8,823 unique users who logged in at least once. Over a quarter (26.5%) of users never logged on and 52%, or 6235, users logged in only once. User adoption was calculated using a rolling 7-day window, resulting in 1,602 (13.4%) of users being classified as adopted."
   ]
  },
  {
   "cell_type": "markdown",
   "id": "d464d862",
   "metadata": {},
   "source": [
    "## User information: takehome_users.csv', "
   ]
  },
  {
   "cell_type": "code",
   "execution_count": 93,
   "id": "8a103b80",
   "metadata": {},
   "outputs": [
    {
     "name": "stdout",
     "output_type": "stream",
     "text": [
      "<class 'pandas.core.frame.DataFrame'>\n",
      "RangeIndex: 12000 entries, 0 to 11999\n",
      "Data columns (total 10 columns):\n",
      " #   Column                      Non-Null Count  Dtype         \n",
      "---  ------                      --------------  -----         \n",
      " 0   object_id                   12000 non-null  int64         \n",
      " 1   creation_time               12000 non-null  datetime64[ns]\n",
      " 2   name                        12000 non-null  object        \n",
      " 3   email                       12000 non-null  object        \n",
      " 4   creation_source             12000 non-null  object        \n",
      " 5   last_session_creation_time  8823 non-null   object        \n",
      " 6   opted_in_to_mailing_list    12000 non-null  int64         \n",
      " 7   enabled_for_marketing_drip  12000 non-null  int64         \n",
      " 8   org_id                      12000 non-null  int64         \n",
      " 9   invited_by_user_id          6417 non-null   float64       \n",
      "dtypes: datetime64[ns](1), float64(1), int64(4), object(4)\n",
      "memory usage: 937.6+ KB\n"
     ]
    },
    {
     "data": {
      "text/html": [
       "<div>\n",
       "<style scoped>\n",
       "    .dataframe tbody tr th:only-of-type {\n",
       "        vertical-align: middle;\n",
       "    }\n",
       "\n",
       "    .dataframe tbody tr th {\n",
       "        vertical-align: top;\n",
       "    }\n",
       "\n",
       "    .dataframe thead th {\n",
       "        text-align: right;\n",
       "    }\n",
       "</style>\n",
       "<table border=\"1\" class=\"dataframe\">\n",
       "  <thead>\n",
       "    <tr style=\"text-align: right;\">\n",
       "      <th></th>\n",
       "      <th>object_id</th>\n",
       "      <th>creation_time</th>\n",
       "      <th>name</th>\n",
       "      <th>email</th>\n",
       "      <th>creation_source</th>\n",
       "      <th>last_session_creation_time</th>\n",
       "      <th>opted_in_to_mailing_list</th>\n",
       "      <th>enabled_for_marketing_drip</th>\n",
       "      <th>org_id</th>\n",
       "      <th>invited_by_user_id</th>\n",
       "    </tr>\n",
       "  </thead>\n",
       "  <tbody>\n",
       "    <tr>\n",
       "      <th>0</th>\n",
       "      <td>1</td>\n",
       "      <td>2014-04-22 03:53:30</td>\n",
       "      <td>Clausen August</td>\n",
       "      <td>AugustCClausen@yahoo.com</td>\n",
       "      <td>GUEST_INVITE</td>\n",
       "      <td>1398138810</td>\n",
       "      <td>1</td>\n",
       "      <td>0</td>\n",
       "      <td>11</td>\n",
       "      <td>10803.0</td>\n",
       "    </tr>\n",
       "    <tr>\n",
       "      <th>1</th>\n",
       "      <td>2</td>\n",
       "      <td>2013-11-15 03:45:04</td>\n",
       "      <td>Poole Matthew</td>\n",
       "      <td>MatthewPoole@gustr.com</td>\n",
       "      <td>ORG_INVITE</td>\n",
       "      <td>1396237504</td>\n",
       "      <td>0</td>\n",
       "      <td>0</td>\n",
       "      <td>1</td>\n",
       "      <td>316.0</td>\n",
       "    </tr>\n",
       "    <tr>\n",
       "      <th>2</th>\n",
       "      <td>3</td>\n",
       "      <td>2013-03-19 23:14:52</td>\n",
       "      <td>Bottrill Mitchell</td>\n",
       "      <td>MitchellBottrill@gustr.com</td>\n",
       "      <td>ORG_INVITE</td>\n",
       "      <td>1363734892</td>\n",
       "      <td>0</td>\n",
       "      <td>0</td>\n",
       "      <td>94</td>\n",
       "      <td>1525.0</td>\n",
       "    </tr>\n",
       "    <tr>\n",
       "      <th>3</th>\n",
       "      <td>4</td>\n",
       "      <td>2013-05-21 08:09:28</td>\n",
       "      <td>Clausen Nicklas</td>\n",
       "      <td>NicklasSClausen@yahoo.com</td>\n",
       "      <td>GUEST_INVITE</td>\n",
       "      <td>1369210168</td>\n",
       "      <td>0</td>\n",
       "      <td>0</td>\n",
       "      <td>1</td>\n",
       "      <td>5151.0</td>\n",
       "    </tr>\n",
       "    <tr>\n",
       "      <th>4</th>\n",
       "      <td>5</td>\n",
       "      <td>2013-01-17 10:14:20</td>\n",
       "      <td>Raw Grace</td>\n",
       "      <td>GraceRaw@yahoo.com</td>\n",
       "      <td>GUEST_INVITE</td>\n",
       "      <td>1358849660</td>\n",
       "      <td>0</td>\n",
       "      <td>0</td>\n",
       "      <td>193</td>\n",
       "      <td>5240.0</td>\n",
       "    </tr>\n",
       "  </tbody>\n",
       "</table>\n",
       "</div>"
      ],
      "text/plain": [
       "   object_id       creation_time               name  \\\n",
       "0          1 2014-04-22 03:53:30     Clausen August   \n",
       "1          2 2013-11-15 03:45:04      Poole Matthew   \n",
       "2          3 2013-03-19 23:14:52  Bottrill Mitchell   \n",
       "3          4 2013-05-21 08:09:28    Clausen Nicklas   \n",
       "4          5 2013-01-17 10:14:20          Raw Grace   \n",
       "\n",
       "                        email creation_source last_session_creation_time  \\\n",
       "0    AugustCClausen@yahoo.com    GUEST_INVITE                 1398138810   \n",
       "1      MatthewPoole@gustr.com      ORG_INVITE                 1396237504   \n",
       "2  MitchellBottrill@gustr.com      ORG_INVITE                 1363734892   \n",
       "3   NicklasSClausen@yahoo.com    GUEST_INVITE                 1369210168   \n",
       "4          GraceRaw@yahoo.com    GUEST_INVITE                 1358849660   \n",
       "\n",
       "   opted_in_to_mailing_list  enabled_for_marketing_drip  org_id  \\\n",
       "0                         1                           0      11   \n",
       "1                         0                           0       1   \n",
       "2                         0                           0      94   \n",
       "3                         0                           0       1   \n",
       "4                         0                           0     193   \n",
       "\n",
       "   invited_by_user_id  \n",
       "0             10803.0  \n",
       "1               316.0  \n",
       "2              1525.0  \n",
       "3              5151.0  \n",
       "4              5240.0  "
      ]
     },
     "execution_count": 93,
     "metadata": {},
     "output_type": "execute_result"
    }
   ],
   "source": [
    "df_user.info()\n",
    "df_user.head()"
   ]
  },
  {
   "cell_type": "code",
   "execution_count": 94,
   "id": "82e525b3",
   "metadata": {},
   "outputs": [
    {
     "data": {
      "text/html": [
       "<div>\n",
       "<style scoped>\n",
       "    .dataframe tbody tr th:only-of-type {\n",
       "        vertical-align: middle;\n",
       "    }\n",
       "\n",
       "    .dataframe tbody tr th {\n",
       "        vertical-align: top;\n",
       "    }\n",
       "\n",
       "    .dataframe thead th {\n",
       "        text-align: right;\n",
       "    }\n",
       "</style>\n",
       "<table border=\"1\" class=\"dataframe\">\n",
       "  <thead>\n",
       "    <tr style=\"text-align: right;\">\n",
       "      <th></th>\n",
       "      <th>object_id</th>\n",
       "      <th>opted_in_to_mailing_list</th>\n",
       "      <th>enabled_for_marketing_drip</th>\n",
       "      <th>org_id</th>\n",
       "      <th>invited_by_user_id</th>\n",
       "    </tr>\n",
       "  </thead>\n",
       "  <tbody>\n",
       "    <tr>\n",
       "      <th>count</th>\n",
       "      <td>12000.00000</td>\n",
       "      <td>12000.000000</td>\n",
       "      <td>12000.000000</td>\n",
       "      <td>12000.000000</td>\n",
       "      <td>6417.000000</td>\n",
       "    </tr>\n",
       "    <tr>\n",
       "      <th>mean</th>\n",
       "      <td>6000.50000</td>\n",
       "      <td>0.249500</td>\n",
       "      <td>0.149333</td>\n",
       "      <td>141.884583</td>\n",
       "      <td>5962.957145</td>\n",
       "    </tr>\n",
       "    <tr>\n",
       "      <th>std</th>\n",
       "      <td>3464.24595</td>\n",
       "      <td>0.432742</td>\n",
       "      <td>0.356432</td>\n",
       "      <td>124.056723</td>\n",
       "      <td>3383.761968</td>\n",
       "    </tr>\n",
       "    <tr>\n",
       "      <th>min</th>\n",
       "      <td>1.00000</td>\n",
       "      <td>0.000000</td>\n",
       "      <td>0.000000</td>\n",
       "      <td>0.000000</td>\n",
       "      <td>3.000000</td>\n",
       "    </tr>\n",
       "    <tr>\n",
       "      <th>25%</th>\n",
       "      <td>3000.75000</td>\n",
       "      <td>0.000000</td>\n",
       "      <td>0.000000</td>\n",
       "      <td>29.000000</td>\n",
       "      <td>3058.000000</td>\n",
       "    </tr>\n",
       "    <tr>\n",
       "      <th>50%</th>\n",
       "      <td>6000.50000</td>\n",
       "      <td>0.000000</td>\n",
       "      <td>0.000000</td>\n",
       "      <td>108.000000</td>\n",
       "      <td>5954.000000</td>\n",
       "    </tr>\n",
       "    <tr>\n",
       "      <th>75%</th>\n",
       "      <td>9000.25000</td>\n",
       "      <td>0.000000</td>\n",
       "      <td>0.000000</td>\n",
       "      <td>238.250000</td>\n",
       "      <td>8817.000000</td>\n",
       "    </tr>\n",
       "    <tr>\n",
       "      <th>max</th>\n",
       "      <td>12000.00000</td>\n",
       "      <td>1.000000</td>\n",
       "      <td>1.000000</td>\n",
       "      <td>416.000000</td>\n",
       "      <td>11999.000000</td>\n",
       "    </tr>\n",
       "  </tbody>\n",
       "</table>\n",
       "</div>"
      ],
      "text/plain": [
       "         object_id  opted_in_to_mailing_list  enabled_for_marketing_drip  \\\n",
       "count  12000.00000              12000.000000                12000.000000   \n",
       "mean    6000.50000                  0.249500                    0.149333   \n",
       "std     3464.24595                  0.432742                    0.356432   \n",
       "min        1.00000                  0.000000                    0.000000   \n",
       "25%     3000.75000                  0.000000                    0.000000   \n",
       "50%     6000.50000                  0.000000                    0.000000   \n",
       "75%     9000.25000                  0.000000                    0.000000   \n",
       "max    12000.00000                  1.000000                    1.000000   \n",
       "\n",
       "             org_id  invited_by_user_id  \n",
       "count  12000.000000         6417.000000  \n",
       "mean     141.884583         5962.957145  \n",
       "std      124.056723         3383.761968  \n",
       "min        0.000000            3.000000  \n",
       "25%       29.000000         3058.000000  \n",
       "50%      108.000000         5954.000000  \n",
       "75%      238.250000         8817.000000  \n",
       "max      416.000000        11999.000000  "
      ]
     },
     "execution_count": 94,
     "metadata": {},
     "output_type": "execute_result"
    }
   ],
   "source": [
    "df_user.describe()"
   ]
  },
  {
   "cell_type": "code",
   "execution_count": 95,
   "id": "011ce6e6",
   "metadata": {},
   "outputs": [
    {
     "name": "stdout",
     "output_type": "stream",
     "text": [
      "24.9% percent of users opted into the mailing list\n",
      "14.9% percent of users enabled marketing outreach\n"
     ]
    }
   ],
   "source": [
    "mail = df_user['opted_in_to_mailing_list'].sum()\n",
    "market = df_user['enabled_for_marketing_drip'].sum()\n",
    "print(\"{:.1%}\".format((mail)/12000)+\" percent of users opted into the mailing list\")\n",
    "print(\"{:.1%}\".format((market)/12000)+\" percent of users enabled marketing outreach\")"
   ]
  },
  {
   "cell_type": "code",
   "execution_count": 96,
   "id": "5c981736",
   "metadata": {},
   "outputs": [
    {
     "name": "stdout",
     "output_type": "stream",
     "text": [
      "creation_source\n",
      "GUEST_INVITE          2163\n",
      "ORG_INVITE            4254\n",
      "PERSONAL_PROJECTS     2111\n",
      "SIGNUP                2087\n",
      "SIGNUP_GOOGLE_AUTH    1385\n",
      "Name: object_id, dtype: int64\n"
     ]
    },
    {
     "data": {
      "image/png": "[encoded data removed]",
      "text/plain": [
       "<Figure size 864x360 with 1 Axes>"
      ]
     },
     "metadata": {
      "needs_background": "light"
     },
     "output_type": "display_data"
    }
   ],
   "source": [
    "# get number of users for each creation source\n",
    "print(df_user.groupby('creation_source')['object_id'].count())\n",
    "\n",
    "#plt.rcParams[\"figure.figsize\"] = (5,8)\n",
    "plt.figure(figsize=(12, 5))\n",
    "\n",
    "# Histogram of number of visits by individual users\n",
    "plt.hist(df_user['creation_source'], bins=9)\n",
    "plt.xlabel('Creation source', fontsize = 20)\n",
    "plt.ylabel('Number of users', fontsize = 20)\n",
    "plt.title('Source of user signups', fontsize = 30)\n",
    "\n",
    "plt.show()"
   ]
  },
  {
   "cell_type": "code",
   "execution_count": 97,
   "id": "28ee0950",
   "metadata": {},
   "outputs": [
    {
     "name": "stdout",
     "output_type": "stream",
     "text": [
      "gmail.com         3562\n",
      "yahoo.com         2447\n",
      "jourrapide.com    1259\n",
      "cuvox.de          1202\n",
      "gustr.com         1179\n",
      "hotmail.com       1165\n",
      "rerwl.com            2\n",
      "oqpze.com            2\n",
      "qgjbc.com            2\n",
      "dqwln.com            2\n",
      "Name: domain, dtype: int64\n"
     ]
    }
   ],
   "source": [
    "# Add email domain\n",
    "df_user['domain'] = df_user['email'].apply(lambda x: x.split('@')[1])\n",
    "print(df_user['domain'].value_counts().head(10))\n",
    "\n",
    "# Create column of top six domains and 'other'\n",
    "top_domains = ['gmail.com', 'yahoo.com', 'jourrapide.com', 'cuvox.de', 'gustr.com', 'hotmail.com']\n",
    "df_user['domains'] = df_user['domain'].apply(lambda x: x if x in top_domains else 'other')"
   ]
  },
  {
   "cell_type": "markdown",
   "id": "e4309830",
   "metadata": {},
   "source": [
    "**Summary:**\n",
    "<br>24.9% of users opted into the mailing list and 14.9% enabled marketing. Organizational invite was the largets creation source. "
   ]
  },
  {
   "cell_type": "markdown",
   "id": "3c09f568",
   "metadata": {},
   "source": [
    "## Bring engagement data into user information table"
   ]
  },
  {
   "cell_type": "code",
   "execution_count": 98,
   "id": "9efd66a9",
   "metadata": {},
   "outputs": [],
   "source": [
    "#rename object_id as user_id to match df_engage\n",
    "df_user = df_user.rename(columns={'object_id': 'user_id'})"
   ]
  },
  {
   "cell_type": "code",
   "execution_count": 99,
   "id": "d897ec8c",
   "metadata": {},
   "outputs": [],
   "source": [
    "# Add number of visits to user table\n",
    "df_user = pd.merge(df_user, user_visits, on=\"user_id\", how=\"left\")\n"
   ]
  },
  {
   "cell_type": "code",
   "execution_count": 100,
   "id": "8d674a93",
   "metadata": {},
   "outputs": [
    {
     "data": {
      "text/html": [
       "<div>\n",
       "<style scoped>\n",
       "    .dataframe tbody tr th:only-of-type {\n",
       "        vertical-align: middle;\n",
       "    }\n",
       "\n",
       "    .dataframe tbody tr th {\n",
       "        vertical-align: top;\n",
       "    }\n",
       "\n",
       "    .dataframe thead th {\n",
       "        text-align: right;\n",
       "    }\n",
       "</style>\n",
       "<table border=\"1\" class=\"dataframe\">\n",
       "  <thead>\n",
       "    <tr style=\"text-align: right;\">\n",
       "      <th></th>\n",
       "      <th>user_id</th>\n",
       "      <th>creation_time</th>\n",
       "      <th>name</th>\n",
       "      <th>email</th>\n",
       "      <th>creation_source</th>\n",
       "      <th>last_session_creation_time</th>\n",
       "      <th>opted_in_to_mailing_list</th>\n",
       "      <th>enabled_for_marketing_drip</th>\n",
       "      <th>org_id</th>\n",
       "      <th>invited_by_user_id</th>\n",
       "      <th>domain</th>\n",
       "      <th>domains</th>\n",
       "      <th>visited</th>\n",
       "      <th>id_str</th>\n",
       "      <th>adopted</th>\n",
       "    </tr>\n",
       "  </thead>\n",
       "  <tbody>\n",
       "    <tr>\n",
       "      <th>3622</th>\n",
       "      <td>3623</td>\n",
       "      <td>2012-06-25 14:34:33</td>\n",
       "      <td>Melo Vitória</td>\n",
       "      <td>VitoriaAlvesMelo@jourrapide.com</td>\n",
       "      <td>ORG_INVITE</td>\n",
       "      <td>1401201273</td>\n",
       "      <td>0</td>\n",
       "      <td>0</td>\n",
       "      <td>364</td>\n",
       "      <td>3623.0</td>\n",
       "      <td>jourrapide.com</td>\n",
       "      <td>jourrapide.com</td>\n",
       "      <td>606.0</td>\n",
       "      <td>3623</td>\n",
       "      <td>1</td>\n",
       "    </tr>\n",
       "    <tr>\n",
       "      <th>905</th>\n",
       "      <td>906</td>\n",
       "      <td>2012-06-17 22:49:52</td>\n",
       "      <td>Becker Jessika</td>\n",
       "      <td>JessikaBecker@gmail.com</td>\n",
       "      <td>SIGNUP_GOOGLE_AUTH</td>\n",
       "      <td>1401922192</td>\n",
       "      <td>0</td>\n",
       "      <td>0</td>\n",
       "      <td>358</td>\n",
       "      <td>NaN</td>\n",
       "      <td>gmail.com</td>\n",
       "      <td>gmail.com</td>\n",
       "      <td>600.0</td>\n",
       "      <td>906</td>\n",
       "      <td>1</td>\n",
       "    </tr>\n",
       "    <tr>\n",
       "      <th>1810</th>\n",
       "      <td>1811</td>\n",
       "      <td>2012-06-19 16:09:31</td>\n",
       "      <td>Carvalho Eduardo</td>\n",
       "      <td>EduardoCunhaCarvalho@gmail.com</td>\n",
       "      <td>SIGNUP_GOOGLE_AUTH</td>\n",
       "      <td>1400947771</td>\n",
       "      <td>1</td>\n",
       "      <td>1</td>\n",
       "      <td>33</td>\n",
       "      <td>NaN</td>\n",
       "      <td>gmail.com</td>\n",
       "      <td>gmail.com</td>\n",
       "      <td>593.0</td>\n",
       "      <td>1811</td>\n",
       "      <td>1</td>\n",
       "    </tr>\n",
       "    <tr>\n",
       "      <th>7589</th>\n",
       "      <td>7590</td>\n",
       "      <td>2012-06-08 00:51:13</td>\n",
       "      <td>Ferreira Rebeca</td>\n",
       "      <td>ffickuvv@qqgix.com</td>\n",
       "      <td>PERSONAL_PROJECTS</td>\n",
       "      <td>1401843073</td>\n",
       "      <td>0</td>\n",
       "      <td>0</td>\n",
       "      <td>225</td>\n",
       "      <td>NaN</td>\n",
       "      <td>qqgix.com</td>\n",
       "      <td>other</td>\n",
       "      <td>590.0</td>\n",
       "      <td>7590</td>\n",
       "      <td>1</td>\n",
       "    </tr>\n",
       "    <tr>\n",
       "      <th>8067</th>\n",
       "      <td>8068</td>\n",
       "      <td>2012-06-01 20:02:35</td>\n",
       "      <td>McCoy Donna</td>\n",
       "      <td>DonnaBMcCoy@hotmail.com</td>\n",
       "      <td>ORG_INVITE</td>\n",
       "      <td>1401393755</td>\n",
       "      <td>0</td>\n",
       "      <td>1</td>\n",
       "      <td>42</td>\n",
       "      <td>8068.0</td>\n",
       "      <td>hotmail.com</td>\n",
       "      <td>hotmail.com</td>\n",
       "      <td>585.0</td>\n",
       "      <td>8068</td>\n",
       "      <td>1</td>\n",
       "    </tr>\n",
       "    <tr>\n",
       "      <th>...</th>\n",
       "      <td>...</td>\n",
       "      <td>...</td>\n",
       "      <td>...</td>\n",
       "      <td>...</td>\n",
       "      <td>...</td>\n",
       "      <td>...</td>\n",
       "      <td>...</td>\n",
       "      <td>...</td>\n",
       "      <td>...</td>\n",
       "      <td>...</td>\n",
       "      <td>...</td>\n",
       "      <td>...</td>\n",
       "      <td>...</td>\n",
       "      <td>...</td>\n",
       "      <td>...</td>\n",
       "    </tr>\n",
       "    <tr>\n",
       "      <th>11975</th>\n",
       "      <td>11976</td>\n",
       "      <td>2013-12-25 22:01:41</td>\n",
       "      <td>Kohl Leah</td>\n",
       "      <td>LeahKohl@hotmail.com</td>\n",
       "      <td>PERSONAL_PROJECTS</td>\n",
       "      <td>NaN</td>\n",
       "      <td>0</td>\n",
       "      <td>0</td>\n",
       "      <td>248</td>\n",
       "      <td>NaN</td>\n",
       "      <td>hotmail.com</td>\n",
       "      <td>hotmail.com</td>\n",
       "      <td>NaN</td>\n",
       "      <td>11976</td>\n",
       "      <td>0</td>\n",
       "    </tr>\n",
       "    <tr>\n",
       "      <th>11977</th>\n",
       "      <td>11978</td>\n",
       "      <td>2014-04-23 16:28:06</td>\n",
       "      <td>Castro Pedro</td>\n",
       "      <td>PedroCunhaCastro@gustr.com</td>\n",
       "      <td>PERSONAL_PROJECTS</td>\n",
       "      <td>NaN</td>\n",
       "      <td>1</td>\n",
       "      <td>0</td>\n",
       "      <td>29</td>\n",
       "      <td>NaN</td>\n",
       "      <td>gustr.com</td>\n",
       "      <td>gustr.com</td>\n",
       "      <td>NaN</td>\n",
       "      <td>11978</td>\n",
       "      <td>0</td>\n",
       "    </tr>\n",
       "    <tr>\n",
       "      <th>11984</th>\n",
       "      <td>11985</td>\n",
       "      <td>2013-07-08 17:23:26</td>\n",
       "      <td>Jespersen Marcus</td>\n",
       "      <td>MarcusTJespersen@cuvox.de</td>\n",
       "      <td>PERSONAL_PROJECTS</td>\n",
       "      <td>NaN</td>\n",
       "      <td>0</td>\n",
       "      <td>0</td>\n",
       "      <td>74</td>\n",
       "      <td>NaN</td>\n",
       "      <td>cuvox.de</td>\n",
       "      <td>cuvox.de</td>\n",
       "      <td>NaN</td>\n",
       "      <td>11985</td>\n",
       "      <td>0</td>\n",
       "    </tr>\n",
       "    <tr>\n",
       "      <th>11992</th>\n",
       "      <td>11993</td>\n",
       "      <td>2013-03-28 23:24:21</td>\n",
       "      <td>Townsend Isabel</td>\n",
       "      <td>IsabelTownsend@cuvox.de</td>\n",
       "      <td>PERSONAL_PROJECTS</td>\n",
       "      <td>NaN</td>\n",
       "      <td>0</td>\n",
       "      <td>0</td>\n",
       "      <td>281</td>\n",
       "      <td>NaN</td>\n",
       "      <td>cuvox.de</td>\n",
       "      <td>cuvox.de</td>\n",
       "      <td>NaN</td>\n",
       "      <td>11993</td>\n",
       "      <td>0</td>\n",
       "    </tr>\n",
       "    <tr>\n",
       "      <th>11993</th>\n",
       "      <td>11994</td>\n",
       "      <td>2012-06-05 04:46:16</td>\n",
       "      <td>Grimstone Joel</td>\n",
       "      <td>conxzghp@eaouk.com</td>\n",
       "      <td>GUEST_INVITE</td>\n",
       "      <td>NaN</td>\n",
       "      <td>0</td>\n",
       "      <td>0</td>\n",
       "      <td>84</td>\n",
       "      <td>5450.0</td>\n",
       "      <td>eaouk.com</td>\n",
       "      <td>other</td>\n",
       "      <td>NaN</td>\n",
       "      <td>11994</td>\n",
       "      <td>0</td>\n",
       "    </tr>\n",
       "  </tbody>\n",
       "</table>\n",
       "<p>12000 rows × 15 columns</p>\n",
       "</div>"
      ],
      "text/plain": [
       "       user_id       creation_time              name  \\\n",
       "3622      3623 2012-06-25 14:34:33      Melo Vitória   \n",
       "905        906 2012-06-17 22:49:52    Becker Jessika   \n",
       "1810      1811 2012-06-19 16:09:31  Carvalho Eduardo   \n",
       "7589      7590 2012-06-08 00:51:13   Ferreira Rebeca   \n",
       "8067      8068 2012-06-01 20:02:35       McCoy Donna   \n",
       "...        ...                 ...               ...   \n",
       "11975    11976 2013-12-25 22:01:41         Kohl Leah   \n",
       "11977    11978 2014-04-23 16:28:06      Castro Pedro   \n",
       "11984    11985 2013-07-08 17:23:26  Jespersen Marcus   \n",
       "11992    11993 2013-03-28 23:24:21   Townsend Isabel   \n",
       "11993    11994 2012-06-05 04:46:16    Grimstone Joel   \n",
       "\n",
       "                                 email     creation_source  \\\n",
       "3622   VitoriaAlvesMelo@jourrapide.com          ORG_INVITE   \n",
       "905            JessikaBecker@gmail.com  SIGNUP_GOOGLE_AUTH   \n",
       "1810    EduardoCunhaCarvalho@gmail.com  SIGNUP_GOOGLE_AUTH   \n",
       "7589                ffickuvv@qqgix.com   PERSONAL_PROJECTS   \n",
       "8067           DonnaBMcCoy@hotmail.com          ORG_INVITE   \n",
       "...                                ...                 ...   \n",
       "11975             LeahKohl@hotmail.com   PERSONAL_PROJECTS   \n",
       "11977       PedroCunhaCastro@gustr.com   PERSONAL_PROJECTS   \n",
       "11984        MarcusTJespersen@cuvox.de   PERSONAL_PROJECTS   \n",
       "11992          IsabelTownsend@cuvox.de   PERSONAL_PROJECTS   \n",
       "11993               conxzghp@eaouk.com        GUEST_INVITE   \n",
       "\n",
       "      last_session_creation_time  opted_in_to_mailing_list  \\\n",
       "3622                  1401201273                         0   \n",
       "905                   1401922192                         0   \n",
       "1810                  1400947771                         1   \n",
       "7589                  1401843073                         0   \n",
       "8067                  1401393755                         0   \n",
       "...                          ...                       ...   \n",
       "11975                        NaN                         0   \n",
       "11977                        NaN                         1   \n",
       "11984                        NaN                         0   \n",
       "11992                        NaN                         0   \n",
       "11993                        NaN                         0   \n",
       "\n",
       "       enabled_for_marketing_drip  org_id  invited_by_user_id          domain  \\\n",
       "3622                            0     364              3623.0  jourrapide.com   \n",
       "905                             0     358                 NaN       gmail.com   \n",
       "1810                            1      33                 NaN       gmail.com   \n",
       "7589                            0     225                 NaN       qqgix.com   \n",
       "8067                            1      42              8068.0     hotmail.com   \n",
       "...                           ...     ...                 ...             ...   \n",
       "11975                           0     248                 NaN     hotmail.com   \n",
       "11977                           0      29                 NaN       gustr.com   \n",
       "11984                           0      74                 NaN        cuvox.de   \n",
       "11992                           0     281                 NaN        cuvox.de   \n",
       "11993                           0      84              5450.0       eaouk.com   \n",
       "\n",
       "              domains  visited id_str adopted  \n",
       "3622   jourrapide.com    606.0   3623       1  \n",
       "905         gmail.com    600.0    906       1  \n",
       "1810        gmail.com    593.0   1811       1  \n",
       "7589            other    590.0   7590       1  \n",
       "8067      hotmail.com    585.0   8068       1  \n",
       "...               ...      ...    ...     ...  \n",
       "11975     hotmail.com      NaN  11976       0  \n",
       "11977       gustr.com      NaN  11978       0  \n",
       "11984        cuvox.de      NaN  11985       0  \n",
       "11992        cuvox.de      NaN  11993       0  \n",
       "11993           other      NaN  11994       0  \n",
       "\n",
       "[12000 rows x 15 columns]"
      ]
     },
     "execution_count": 100,
     "metadata": {},
     "output_type": "execute_result"
    }
   ],
   "source": [
    "#create column of user ids in string format\n",
    "df_user['id_str'] = df_user['user_id'].apply(str)\n",
    "\n",
    "# add column with 1=adopted, 0=not adopted\n",
    "df_user['adopted']= np.where(df_user['id_str'].isin(adopt_list_str), '1', '0')\n",
    "df_user.sort_values(by=['visited'], ascending=False)"
   ]
  },
  {
   "cell_type": "code",
   "execution_count": 101,
   "id": "5c56bc13",
   "metadata": {},
   "outputs": [
    {
     "name": "stdout",
     "output_type": "stream",
     "text": [
      "1602\n"
     ]
    }
   ],
   "source": [
    "#check adopted column is correct\n",
    "print(len(df_user[df_user['adopted']=='1']))\n"
   ]
  },
  {
   "cell_type": "markdown",
   "id": "dc0f398d",
   "metadata": {},
   "source": [
    "# Modeling factors contributing to user adoption: linear regression"
   ]
  },
  {
   "cell_type": "code",
   "execution_count": 111,
   "id": "99601613",
   "metadata": {},
   "outputs": [],
   "source": [
    "from sklearn.linear_model import LogisticRegression\n",
    "from sklearn.model_selection import train_test_split, cross_val_score, GridSearchCV, KFold\n",
    "from sklearn.metrics import confusion_matrix, classification_report, roc_curve, roc_auc_score, accuracy_score\n",
    "from sklearn.preprocessing import StandardScaler\n",
    "from sklearn.pipeline import Pipeline"
   ]
  },
  {
   "cell_type": "markdown",
   "id": "050a964b",
   "metadata": {},
   "source": [
    "### Features for model:\n",
    " - **creation_source**: how their account was created. This takes on one of 5 values.\n",
    "    - PERSONAL_PROJECTS: invited to join another user's personal workspace\n",
    "    - GUEST_INVITE: invited to an organization as a guest (limited permissions)\n",
    "    - ORG_INVITE: invited to an organization (as a full member)\n",
    "    - SIGNUP: signed up via the website\n",
    "    - SIGNUP_GOOGLE_AUTH: signed up using Google Authentication (using a Google email account for their login id)\n",
    " - **creation_time**: when they created their account\n",
    " - **last_session_creation_time**: unix timestamp of last login\n",
    " - **opted_in_to_mailing_list**: whether they have opted into receiving marketing emails\n",
    " - **enabled_for_marketing_drip**: whether they are on the regular marketing email drip\n",
    " - **org_id**: the organization (group of users) they belong to\n",
    " - **invited_by_user_id**: which user invited them to join (if applicable)."
   ]
  },
  {
   "cell_type": "code",
   "execution_count": 102,
   "id": "d9855871",
   "metadata": {},
   "outputs": [],
   "source": [
    "#reassign for modeling\n",
    "df_model = df_user"
   ]
  },
  {
   "cell_type": "code",
   "execution_count": 103,
   "id": "1523347f",
   "metadata": {},
   "outputs": [
    {
     "name": "stdout",
     "output_type": "stream",
     "text": [
      "<class 'pandas.core.frame.DataFrame'>\n",
      "Int64Index: 12000 entries, 0 to 11999\n",
      "Data columns (total 15 columns):\n",
      " #   Column                      Non-Null Count  Dtype         \n",
      "---  ------                      --------------  -----         \n",
      " 0   user_id                     12000 non-null  int64         \n",
      " 1   creation_time               12000 non-null  datetime64[ns]\n",
      " 2   name                        12000 non-null  object        \n",
      " 3   email                       12000 non-null  object        \n",
      " 4   creation_source             12000 non-null  object        \n",
      " 5   last_session_creation_time  8823 non-null   object        \n",
      " 6   opted_in_to_mailing_list    12000 non-null  int64         \n",
      " 7   enabled_for_marketing_drip  12000 non-null  int64         \n",
      " 8   org_id                      12000 non-null  int64         \n",
      " 9   invited_by_user_id          6417 non-null   float64       \n",
      " 10  domain                      12000 non-null  object        \n",
      " 11  domains                     12000 non-null  object        \n",
      " 12  visited                     8823 non-null   float64       \n",
      " 13  id_str                      12000 non-null  object        \n",
      " 14  adopted                     12000 non-null  object        \n",
      "dtypes: datetime64[ns](1), float64(2), int64(4), object(8)\n",
      "memory usage: 1.5+ MB\n"
     ]
    }
   ],
   "source": [
    "df_model.info()"
   ]
  },
  {
   "cell_type": "markdown",
   "id": "e89cc5cf",
   "metadata": {},
   "source": [
    "## Create dummies and clean missing data"
   ]
  },
  {
   "cell_type": "code",
   "execution_count": 104,
   "id": "28179a90",
   "metadata": {},
   "outputs": [
    {
     "name": "stdout",
     "output_type": "stream",
     "text": [
      "6417  users were invited to join\n"
     ]
    }
   ],
   "source": [
    "# Binary column for invited_by_user_id\n",
    "df_model['invited'] = df_model['invited_by_user_id'].fillna(0)\n",
    "df_model['invited']= df_model['invited'].apply(lambda x: 0 if x == 0 else 1)\n",
    "print(len(df_user[df_user['invited']==1]), ' users were invited to join')\n"
   ]
  },
  {
   "cell_type": "code",
   "execution_count": 105,
   "id": "7e46b155",
   "metadata": {},
   "outputs": [],
   "source": [
    "# NaN to zero, float to int\n",
    "df_model['last_session_creation_time'] = df_model['last_session_creation_time'].fillna(0)\n",
    "df_model['visited'] = df_model['visited'].fillna(0)\n",
    "df_model['visited'] = df_model['visited'].astype(int)\n",
    "\n",
    "df_model['adopted'] = df_model['adopted'].fillna(0)\n",
    "df_model['adopted'] = df_model['adopted'].astype(int)\n",
    "\n"
   ]
  },
  {
   "cell_type": "code",
   "execution_count": 106,
   "id": "50b2eeae",
   "metadata": {},
   "outputs": [],
   "source": [
    "# Get dummies for email domain\n",
    "df_model = pd.get_dummies(df_model, columns=['domains'])\n",
    "# Get dummies for Creation Source\n",
    "df_model = pd.get_dummies(df_model, columns=['creation_source'])\n"
   ]
  },
  {
   "cell_type": "code",
   "execution_count": 107,
   "id": "b2197579",
   "metadata": {},
   "outputs": [],
   "source": [
    "#df_model.head()"
   ]
  },
  {
   "cell_type": "code",
   "execution_count": 108,
   "id": "ee6fcdfe",
   "metadata": {},
   "outputs": [
    {
     "data": {
      "text/html": [
       "<div>\n",
       "<style scoped>\n",
       "    .dataframe tbody tr th:only-of-type {\n",
       "        vertical-align: middle;\n",
       "    }\n",
       "\n",
       "    .dataframe tbody tr th {\n",
       "        vertical-align: top;\n",
       "    }\n",
       "\n",
       "    .dataframe thead th {\n",
       "        text-align: right;\n",
       "    }\n",
       "</style>\n",
       "<table border=\"1\" class=\"dataframe\">\n",
       "  <thead>\n",
       "    <tr style=\"text-align: right;\">\n",
       "      <th></th>\n",
       "      <th>user_id</th>\n",
       "      <th>opted_in_to_mailing_list</th>\n",
       "      <th>enabled_for_marketing_drip</th>\n",
       "      <th>org_id</th>\n",
       "      <th>invited_by_user_id</th>\n",
       "      <th>visited</th>\n",
       "      <th>adopted</th>\n",
       "      <th>invited</th>\n",
       "      <th>domains_cuvox.de</th>\n",
       "      <th>domains_gmail.com</th>\n",
       "      <th>domains_gustr.com</th>\n",
       "      <th>domains_hotmail.com</th>\n",
       "      <th>domains_jourrapide.com</th>\n",
       "      <th>domains_other</th>\n",
       "      <th>domains_yahoo.com</th>\n",
       "      <th>creation_source_GUEST_INVITE</th>\n",
       "      <th>creation_source_ORG_INVITE</th>\n",
       "      <th>creation_source_PERSONAL_PROJECTS</th>\n",
       "      <th>creation_source_SIGNUP</th>\n",
       "      <th>creation_source_SIGNUP_GOOGLE_AUTH</th>\n",
       "    </tr>\n",
       "  </thead>\n",
       "  <tbody>\n",
       "    <tr>\n",
       "      <th>count</th>\n",
       "      <td>12000.00000</td>\n",
       "      <td>12000.000000</td>\n",
       "      <td>12000.000000</td>\n",
       "      <td>12000.000000</td>\n",
       "      <td>6417.000000</td>\n",
       "      <td>12000.000000</td>\n",
       "      <td>12000.000000</td>\n",
       "      <td>12000.000000</td>\n",
       "      <td>12000.000000</td>\n",
       "      <td>12000.000000</td>\n",
       "      <td>12000.000000</td>\n",
       "      <td>12000.000000</td>\n",
       "      <td>12000.000000</td>\n",
       "      <td>12000.000000</td>\n",
       "      <td>12000.000000</td>\n",
       "      <td>12000.000000</td>\n",
       "      <td>12000.000000</td>\n",
       "      <td>12000.000000</td>\n",
       "      <td>12000.000000</td>\n",
       "      <td>12000.000000</td>\n",
       "    </tr>\n",
       "    <tr>\n",
       "      <th>mean</th>\n",
       "      <td>6000.50000</td>\n",
       "      <td>0.249500</td>\n",
       "      <td>0.149333</td>\n",
       "      <td>141.884583</td>\n",
       "      <td>5962.957145</td>\n",
       "      <td>17.326417</td>\n",
       "      <td>0.133500</td>\n",
       "      <td>0.534750</td>\n",
       "      <td>0.100167</td>\n",
       "      <td>0.296833</td>\n",
       "      <td>0.098250</td>\n",
       "      <td>0.097083</td>\n",
       "      <td>0.104917</td>\n",
       "      <td>0.098833</td>\n",
       "      <td>0.203917</td>\n",
       "      <td>0.180250</td>\n",
       "      <td>0.354500</td>\n",
       "      <td>0.175917</td>\n",
       "      <td>0.173917</td>\n",
       "      <td>0.115417</td>\n",
       "    </tr>\n",
       "    <tr>\n",
       "      <th>std</th>\n",
       "      <td>3464.24595</td>\n",
       "      <td>0.432742</td>\n",
       "      <td>0.356432</td>\n",
       "      <td>124.056723</td>\n",
       "      <td>3383.761968</td>\n",
       "      <td>64.287839</td>\n",
       "      <td>0.340128</td>\n",
       "      <td>0.498812</td>\n",
       "      <td>0.300235</td>\n",
       "      <td>0.456881</td>\n",
       "      <td>0.297665</td>\n",
       "      <td>0.296084</td>\n",
       "      <td>0.306459</td>\n",
       "      <td>0.298451</td>\n",
       "      <td>0.402925</td>\n",
       "      <td>0.384412</td>\n",
       "      <td>0.478381</td>\n",
       "      <td>0.380765</td>\n",
       "      <td>0.379054</td>\n",
       "      <td>0.319537</td>\n",
       "    </tr>\n",
       "    <tr>\n",
       "      <th>min</th>\n",
       "      <td>1.00000</td>\n",
       "      <td>0.000000</td>\n",
       "      <td>0.000000</td>\n",
       "      <td>0.000000</td>\n",
       "      <td>3.000000</td>\n",
       "      <td>0.000000</td>\n",
       "      <td>0.000000</td>\n",
       "      <td>0.000000</td>\n",
       "      <td>0.000000</td>\n",
       "      <td>0.000000</td>\n",
       "      <td>0.000000</td>\n",
       "      <td>0.000000</td>\n",
       "      <td>0.000000</td>\n",
       "      <td>0.000000</td>\n",
       "      <td>0.000000</td>\n",
       "      <td>0.000000</td>\n",
       "      <td>0.000000</td>\n",
       "      <td>0.000000</td>\n",
       "      <td>0.000000</td>\n",
       "      <td>0.000000</td>\n",
       "    </tr>\n",
       "    <tr>\n",
       "      <th>25%</th>\n",
       "      <td>3000.75000</td>\n",
       "      <td>0.000000</td>\n",
       "      <td>0.000000</td>\n",
       "      <td>29.000000</td>\n",
       "      <td>3058.000000</td>\n",
       "      <td>0.000000</td>\n",
       "      <td>0.000000</td>\n",
       "      <td>0.000000</td>\n",
       "      <td>0.000000</td>\n",
       "      <td>0.000000</td>\n",
       "      <td>0.000000</td>\n",
       "      <td>0.000000</td>\n",
       "      <td>0.000000</td>\n",
       "      <td>0.000000</td>\n",
       "      <td>0.000000</td>\n",
       "      <td>0.000000</td>\n",
       "      <td>0.000000</td>\n",
       "      <td>0.000000</td>\n",
       "      <td>0.000000</td>\n",
       "      <td>0.000000</td>\n",
       "    </tr>\n",
       "    <tr>\n",
       "      <th>50%</th>\n",
       "      <td>6000.50000</td>\n",
       "      <td>0.000000</td>\n",
       "      <td>0.000000</td>\n",
       "      <td>108.000000</td>\n",
       "      <td>5954.000000</td>\n",
       "      <td>1.000000</td>\n",
       "      <td>0.000000</td>\n",
       "      <td>1.000000</td>\n",
       "      <td>0.000000</td>\n",
       "      <td>0.000000</td>\n",
       "      <td>0.000000</td>\n",
       "      <td>0.000000</td>\n",
       "      <td>0.000000</td>\n",
       "      <td>0.000000</td>\n",
       "      <td>0.000000</td>\n",
       "      <td>0.000000</td>\n",
       "      <td>0.000000</td>\n",
       "      <td>0.000000</td>\n",
       "      <td>0.000000</td>\n",
       "      <td>0.000000</td>\n",
       "    </tr>\n",
       "    <tr>\n",
       "      <th>75%</th>\n",
       "      <td>9000.25000</td>\n",
       "      <td>0.000000</td>\n",
       "      <td>0.000000</td>\n",
       "      <td>238.250000</td>\n",
       "      <td>8817.000000</td>\n",
       "      <td>1.000000</td>\n",
       "      <td>0.000000</td>\n",
       "      <td>1.000000</td>\n",
       "      <td>0.000000</td>\n",
       "      <td>1.000000</td>\n",
       "      <td>0.000000</td>\n",
       "      <td>0.000000</td>\n",
       "      <td>0.000000</td>\n",
       "      <td>0.000000</td>\n",
       "      <td>0.000000</td>\n",
       "      <td>0.000000</td>\n",
       "      <td>1.000000</td>\n",
       "      <td>0.000000</td>\n",
       "      <td>0.000000</td>\n",
       "      <td>0.000000</td>\n",
       "    </tr>\n",
       "    <tr>\n",
       "      <th>max</th>\n",
       "      <td>12000.00000</td>\n",
       "      <td>1.000000</td>\n",
       "      <td>1.000000</td>\n",
       "      <td>416.000000</td>\n",
       "      <td>11999.000000</td>\n",
       "      <td>606.000000</td>\n",
       "      <td>1.000000</td>\n",
       "      <td>1.000000</td>\n",
       "      <td>1.000000</td>\n",
       "      <td>1.000000</td>\n",
       "      <td>1.000000</td>\n",
       "      <td>1.000000</td>\n",
       "      <td>1.000000</td>\n",
       "      <td>1.000000</td>\n",
       "      <td>1.000000</td>\n",
       "      <td>1.000000</td>\n",
       "      <td>1.000000</td>\n",
       "      <td>1.000000</td>\n",
       "      <td>1.000000</td>\n",
       "      <td>1.000000</td>\n",
       "    </tr>\n",
       "  </tbody>\n",
       "</table>\n",
       "</div>"
      ],
      "text/plain": [
       "           user_id  opted_in_to_mailing_list  enabled_for_marketing_drip  \\\n",
       "count  12000.00000              12000.000000                12000.000000   \n",
       "mean    6000.50000                  0.249500                    0.149333   \n",
       "std     3464.24595                  0.432742                    0.356432   \n",
       "min        1.00000                  0.000000                    0.000000   \n",
       "25%     3000.75000                  0.000000                    0.000000   \n",
       "50%     6000.50000                  0.000000                    0.000000   \n",
       "75%     9000.25000                  0.000000                    0.000000   \n",
       "max    12000.00000                  1.000000                    1.000000   \n",
       "\n",
       "             org_id  invited_by_user_id       visited       adopted  \\\n",
       "count  12000.000000         6417.000000  12000.000000  12000.000000   \n",
       "mean     141.884583         5962.957145     17.326417      0.133500   \n",
       "std      124.056723         3383.761968     64.287839      0.340128   \n",
       "min        0.000000            3.000000      0.000000      0.000000   \n",
       "25%       29.000000         3058.000000      0.000000      0.000000   \n",
       "50%      108.000000         5954.000000      1.000000      0.000000   \n",
       "75%      238.250000         8817.000000      1.000000      0.000000   \n",
       "max      416.000000        11999.000000    606.000000      1.000000   \n",
       "\n",
       "            invited  domains_cuvox.de  domains_gmail.com  domains_gustr.com  \\\n",
       "count  12000.000000      12000.000000       12000.000000       12000.000000   \n",
       "mean       0.534750          0.100167           0.296833           0.098250   \n",
       "std        0.498812          0.300235           0.456881           0.297665   \n",
       "min        0.000000          0.000000           0.000000           0.000000   \n",
       "25%        0.000000          0.000000           0.000000           0.000000   \n",
       "50%        1.000000          0.000000           0.000000           0.000000   \n",
       "75%        1.000000          0.000000           1.000000           0.000000   \n",
       "max        1.000000          1.000000           1.000000           1.000000   \n",
       "\n",
       "       domains_hotmail.com  domains_jourrapide.com  domains_other  \\\n",
       "count         12000.000000            12000.000000   12000.000000   \n",
       "mean              0.097083                0.104917       0.098833   \n",
       "std               0.296084                0.306459       0.298451   \n",
       "min               0.000000                0.000000       0.000000   \n",
       "25%               0.000000                0.000000       0.000000   \n",
       "50%               0.000000                0.000000       0.000000   \n",
       "75%               0.000000                0.000000       0.000000   \n",
       "max               1.000000                1.000000       1.000000   \n",
       "\n",
       "       domains_yahoo.com  creation_source_GUEST_INVITE  \\\n",
       "count       12000.000000                  12000.000000   \n",
       "mean            0.203917                      0.180250   \n",
       "std             0.402925                      0.384412   \n",
       "min             0.000000                      0.000000   \n",
       "25%             0.000000                      0.000000   \n",
       "50%             0.000000                      0.000000   \n",
       "75%             0.000000                      0.000000   \n",
       "max             1.000000                      1.000000   \n",
       "\n",
       "       creation_source_ORG_INVITE  creation_source_PERSONAL_PROJECTS  \\\n",
       "count                12000.000000                       12000.000000   \n",
       "mean                     0.354500                           0.175917   \n",
       "std                      0.478381                           0.380765   \n",
       "min                      0.000000                           0.000000   \n",
       "25%                      0.000000                           0.000000   \n",
       "50%                      0.000000                           0.000000   \n",
       "75%                      1.000000                           0.000000   \n",
       "max                      1.000000                           1.000000   \n",
       "\n",
       "       creation_source_SIGNUP  creation_source_SIGNUP_GOOGLE_AUTH  \n",
       "count            12000.000000                        12000.000000  \n",
       "mean                 0.173917                            0.115417  \n",
       "std                  0.379054                            0.319537  \n",
       "min                  0.000000                            0.000000  \n",
       "25%                  0.000000                            0.000000  \n",
       "50%                  0.000000                            0.000000  \n",
       "75%                  0.000000                            0.000000  \n",
       "max                  1.000000                            1.000000  "
      ]
     },
     "execution_count": 108,
     "metadata": {},
     "output_type": "execute_result"
    }
   ],
   "source": [
    "df_model.describe()"
   ]
  },
  {
   "cell_type": "code",
   "execution_count": 109,
   "id": "e37d8175",
   "metadata": {},
   "outputs": [
    {
     "data": {
      "text/plain": [
       "Index(['user_id', 'creation_time', 'name', 'email',\n",
       "       'last_session_creation_time', 'opted_in_to_mailing_list',\n",
       "       'enabled_for_marketing_drip', 'org_id', 'invited_by_user_id', 'domain',\n",
       "       'visited', 'id_str', 'adopted', 'invited', 'domains_cuvox.de',\n",
       "       'domains_gmail.com', 'domains_gustr.com', 'domains_hotmail.com',\n",
       "       'domains_jourrapide.com', 'domains_other', 'domains_yahoo.com',\n",
       "       'creation_source_GUEST_INVITE', 'creation_source_ORG_INVITE',\n",
       "       'creation_source_PERSONAL_PROJECTS', 'creation_source_SIGNUP',\n",
       "       'creation_source_SIGNUP_GOOGLE_AUTH'],\n",
       "      dtype='object')"
      ]
     },
     "execution_count": 109,
     "metadata": {},
     "output_type": "execute_result"
    }
   ],
   "source": [
    "df_model.columns"
   ]
  },
  {
   "cell_type": "code",
   "execution_count": 110,
   "id": "d646f7a0",
   "metadata": {},
   "outputs": [],
   "source": [
    "# Drop fields not used\n",
    "#df_model = df_model.drop(columns=['visited'])\n"
   ]
  },
  {
   "cell_type": "markdown",
   "id": "a1d5f315",
   "metadata": {},
   "source": [
    "## Linear regression model: full model"
   ]
  },
  {
   "cell_type": "code",
   "execution_count": 112,
   "id": "f225be57",
   "metadata": {},
   "outputs": [],
   "source": [
    "# Filter out fields not used: ids, timestamps, names, emails\n",
    "#['user_id', 'creation_time', 'name', 'email', 'last_session_creation_time', \n",
    "#'id_str', 'org_id', 'invited_by_user_id'])\n",
    "       \n",
    "df_model = df_model[['opted_in_to_mailing_list',\n",
    "       'enabled_for_marketing_drip',\n",
    "       'adopted', 'visited','invited', 'domains_cuvox.de',\n",
    "       'domains_gmail.com', 'domains_gustr.com', 'domains_hotmail.com',\n",
    "       'domains_jourrapide.com', 'domains_other', 'domains_yahoo.com',\n",
    "       'creation_source_GUEST_INVITE', 'creation_source_ORG_INVITE',\n",
    "       'creation_source_PERSONAL_PROJECTS', 'creation_source_SIGNUP',\n",
    "       'creation_source_SIGNUP_GOOGLE_AUTH']]\n",
    "\n"
   ]
  },
  {
   "cell_type": "code",
   "execution_count": 113,
   "id": "f7e491b0",
   "metadata": {},
   "outputs": [],
   "source": [
    "# train test split, 20% for testing, 80% for training\n",
    "y = df_model.adopted\n",
    "X = df_model.drop(['adopted'], axis=1)\n",
    "\n",
    "X_train, X_test, y_train, y_test = train_test_split(X, y, test_size = 0.2, random_state=1, stratify=y)\n",
    "X_train, X_valid, y_train, y_valid = train_test_split(X_train, y_train, test_size = 0.1, random_state=1)\n"
   ]
  },
  {
   "cell_type": "code",
   "execution_count": 114,
   "id": "191313d7",
   "metadata": {},
   "outputs": [],
   "source": [
    "# Steps, pipeline, scale, fit\n",
    "steps = [('scaler', StandardScaler()), ('logreg', LogisticRegression(random_state = 1))]\n",
    "pipeline = Pipeline(steps)\n",
    "logreg_scaled = pipeline.fit(X_train, y_train)\n"
   ]
  },
  {
   "cell_type": "code",
   "execution_count": 115,
   "id": "928dd628",
   "metadata": {},
   "outputs": [
    {
     "name": "stdout",
     "output_type": "stream",
     "text": [
      "The testing accuracy is 98.0%\n"
     ]
    }
   ],
   "source": [
    "# Model accuracy\n",
    "print(\"The testing accuracy is \"+\"{:.1%}\".format(logreg_scaled.score(X_test, y_test)))"
   ]
  },
  {
   "cell_type": "code",
   "execution_count": 116,
   "id": "5f34feb9",
   "metadata": {},
   "outputs": [
    {
     "name": "stdout",
     "output_type": "stream",
     "text": [
      "[0.97833333 0.97541667 0.98       0.98125    0.97541667]\n",
      "Average 5-Fold CV Score: 0.9780833333333334\n"
     ]
    }
   ],
   "source": [
    "# 5-fold cross-validation scores\n",
    "cv_scores = cross_val_score(pipeline, X, y, cv=5)\n",
    "print(cv_scores)\n",
    "print(\"Average 5-Fold CV Score: {}\".format(np.mean(cv_scores)))"
   ]
  },
  {
   "cell_type": "code",
   "execution_count": 117,
   "id": "4e16baa5",
   "metadata": {},
   "outputs": [],
   "source": [
    "features = list(X)"
   ]
  },
  {
   "cell_type": "code",
   "execution_count": 118,
   "id": "6c32e177",
   "metadata": {},
   "outputs": [
    {
     "name": "stdout",
     "output_type": "stream",
     "text": [
      "                                        coef\n",
      "Visited                             0.776079\n",
      "Domains_Jourrapide.Com             -0.698423\n",
      "Domains_Hotmail.Com                 0.546342\n",
      "Domains_Gmail.Com                   0.505200\n",
      "Domains_Other                      -0.358464\n",
      "Domains_Yahoo.Com                  -0.249772\n",
      "Opted_In_To_Mailing_List           -0.237673\n",
      "Creation_Source_Signup              0.176338\n",
      "Domains_Cuvox.De                    0.145594\n",
      "Creation_Source_Signup_Google_Auth -0.144642\n",
      "Creation_Source_Guest_Invite        0.141110\n",
      "Domains_Gustr.Com                   0.109706\n",
      "Creation_Source_Personal_Projects  -0.090573\n",
      "Creation_Source_Org_Invite         -0.082051\n",
      "Enabled_For_Marketing_Drip         -0.060008\n",
      "Invited                             0.059059\n"
     ]
    }
   ],
   "source": [
    "# Check coefficients\n",
    "logreg = LogisticRegression(random_state = 7)\n",
    "scaler = StandardScaler()\n",
    "X_train_scaled = scaler.fit_transform(X_train)\n",
    "logreg.fit(X_train,y_train)\n",
    "std_coef = logreg.coef_.reshape(-1,1).tolist()\n",
    "feature_names = [feature.title() for feature in features]\n",
    "coef_df = pd.DataFrame(std_coef,index=feature_names,columns=['coef'])\n",
    "coef_df['abs'] = coef_df['coef'].abs()\n",
    "coef_df = coef_df.sort_values(by='abs',ascending=False).drop('abs',axis=1)\n",
    "pd.set_option('display.max_rows', None)\n",
    "print(coef_df)"
   ]
  },
  {
   "cell_type": "code",
   "execution_count": 119,
   "id": "901b439b",
   "metadata": {},
   "outputs": [
    {
     "data": {
      "image/png": "[encoded data removed]",
      "text/plain": [
       "<Figure size 648x288 with 1 Axes>"
      ]
     },
     "metadata": {
      "needs_background": "light"
     },
     "output_type": "display_data"
    }
   ],
   "source": [
    "#reset index for plotting\n",
    "coef_df = coef_df.reset_index()\n",
    "\n",
    "# bar plot of feature coefficients\n",
    "plt.barh(coef_df['index'],coef_df['coef'])\n",
    "plt.xlabel('coefficient value', fontsize = 15)\n",
    "plt.ylabel('', fontsize = 15)\n",
    "plt.title('Model coefficients for features', fontsize = 20)\n",
    "\n",
    "plt.show()"
   ]
  },
  {
   "cell_type": "markdown",
   "id": "08a91914",
   "metadata": {},
   "source": [
    "## Linear regression: remove 'visited'"
   ]
  },
  {
   "cell_type": "code",
   "execution_count": 120,
   "id": "1102bc2d",
   "metadata": {},
   "outputs": [],
   "source": [
    "# Filter out 'visited' feature. \n",
    "#This feature is directly related to the 'adopted'response and is not especially informative\n",
    "\n",
    "       \n",
    "df_model = df_model[['opted_in_to_mailing_list',\n",
    "       'enabled_for_marketing_drip',\n",
    "       'adopted', 'invited', 'domains_cuvox.de',\n",
    "       'domains_gmail.com', 'domains_gustr.com', 'domains_hotmail.com',\n",
    "       'domains_jourrapide.com', 'domains_other', 'domains_yahoo.com',\n",
    "       'creation_source_GUEST_INVITE', 'creation_source_ORG_INVITE',\n",
    "       'creation_source_PERSONAL_PROJECTS', 'creation_source_SIGNUP',\n",
    "       'creation_source_SIGNUP_GOOGLE_AUTH']]\n",
    "\n"
   ]
  },
  {
   "cell_type": "code",
   "execution_count": 122,
   "id": "9e8c4773",
   "metadata": {},
   "outputs": [],
   "source": [
    "# train test split, 20% for testing, 80% for training\n",
    "y = df_model.adopted\n",
    "X = df_model.drop(['adopted'], axis=1)\n",
    "\n",
    "X_train, X_test, y_train, y_test = train_test_split(X, y, test_size = 0.2, random_state=1, stratify=y)\n",
    "X_train, X_valid, y_train, y_valid = train_test_split(X_train, y_train, test_size = 0.1, random_state=1)\n"
   ]
  },
  {
   "cell_type": "code",
   "execution_count": 123,
   "id": "983dc309",
   "metadata": {},
   "outputs": [],
   "source": [
    "# Steps, pipeline, scale, fit\n",
    "steps = [('scaler', StandardScaler()), ('logreg', LogisticRegression(random_state = 1))]\n",
    "pipeline = Pipeline(steps)\n",
    "logreg_scaled = pipeline.fit(X_train, y_train)\n"
   ]
  },
  {
   "cell_type": "code",
   "execution_count": 124,
   "id": "419ffbe3",
   "metadata": {},
   "outputs": [
    {
     "name": "stdout",
     "output_type": "stream",
     "text": [
      "The testing accuracy is 86.7%\n"
     ]
    }
   ],
   "source": [
    "# Model accuracy\n",
    "print(\"The testing accuracy is \"+\"{:.1%}\".format(logreg_scaled.score(X_test, y_test)))"
   ]
  },
  {
   "cell_type": "code",
   "execution_count": 125,
   "id": "32b2cff8",
   "metadata": {},
   "outputs": [
    {
     "name": "stdout",
     "output_type": "stream",
     "text": [
      "[0.86666667 0.86666667 0.86666667 0.86625    0.86625   ]\n",
      "Average 5-Fold CV Score: 0.8664999999999999\n"
     ]
    }
   ],
   "source": [
    "# 5-fold cross-validation scores\n",
    "cv_scores = cross_val_score(pipeline, X, y, cv=5)\n",
    "print(cv_scores)\n",
    "print(\"Average 5-Fold CV Score: {}\".format(np.mean(cv_scores)))"
   ]
  },
  {
   "cell_type": "code",
   "execution_count": 126,
   "id": "1e0f2ad8",
   "metadata": {},
   "outputs": [],
   "source": [
    "features = list(X)"
   ]
  },
  {
   "cell_type": "code",
   "execution_count": 127,
   "id": "949ac1d9",
   "metadata": {},
   "outputs": [
    {
     "name": "stdout",
     "output_type": "stream",
     "text": [
      "                                        coef\n",
      "Creation_Source_Personal_Projects  -0.497104\n",
      "Domains_Hotmail.Com                 0.305847\n",
      "Creation_Source_Signup_Google_Auth  0.263242\n",
      "Creation_Source_Guest_Invite        0.226408\n",
      "Domains_Cuvox.De                   -0.173797\n",
      "Domains_Yahoo.Com                  -0.170642\n",
      "Invited                             0.134435\n",
      "Domains_Gmail.Com                   0.119891\n",
      "Creation_Source_Signup              0.099245\n",
      "Creation_Source_Org_Invite         -0.091973\n",
      "Domains_Gustr.Com                  -0.084387\n",
      "Domains_Other                       0.044099\n",
      "Domains_Jourrapide.Com             -0.041192\n",
      "Opted_In_To_Mailing_List            0.019267\n",
      "Enabled_For_Marketing_Drip         -0.011684\n"
     ]
    }
   ],
   "source": [
    "# Check coefficients\n",
    "logreg = LogisticRegression(random_state = 7)\n",
    "scaler = StandardScaler()\n",
    "X_train_scaled = scaler.fit_transform(X_train)\n",
    "logreg.fit(X_train,y_train)\n",
    "std_coef = logreg.coef_.reshape(-1,1).tolist()\n",
    "feature_names = [feature.title() for feature in features]\n",
    "coef_df = pd.DataFrame(std_coef,index=feature_names,columns=['coef'])\n",
    "coef_df['abs'] = coef_df['coef'].abs()\n",
    "coef_df = coef_df.sort_values(by='abs',ascending=False).drop('abs',axis=1)\n",
    "pd.set_option('display.max_rows', None)\n",
    "print(coef_df)"
   ]
  },
  {
   "cell_type": "code",
   "execution_count": 129,
   "id": "36c78f86",
   "metadata": {},
   "outputs": [
    {
     "data": {
      "image/png": "[encoded data removed]",
      "text/plain": [
       "<Figure size 648x288 with 1 Axes>"
      ]
     },
     "metadata": {
      "needs_background": "light"
     },
     "output_type": "display_data"
    }
   ],
   "source": [
    "#reset index for plotting\n",
    "coef_df = coef_df.reset_index()\n",
    "\n",
    "# bar plot of feature coefficients\n",
    "plt.barh(coef_df['index'],coef_df['coef'])\n",
    "plt.xlabel('coefficient value', fontsize = 15)\n",
    "plt.ylabel('', fontsize = 15)\n",
    "plt.title('Model coefficients for features', fontsize = 20)\n",
    "\n",
    "plt.show()"
   ]
  },
  {
   "cell_type": "markdown",
   "id": "dc449372",
   "metadata": {},
   "source": [
    "## Summary:\n",
    "<br>Both models, with and without the number of user visits indicate simialar patters. The model with number of visits is 98% accurate, but this could be overfitting because number of visits is directly related to the definition of user adoption. The model was refit without the number of visits and though accuracy dropped, a similar pattern in feature influence was seen.\n",
    "<br>Opting into the mailing list and being invited by another user are positively related to user adoption. Organization invite is negatively related to user adoption. The strongest negative indicator of adoption is users with personal project as their creation source."
   ]
  },
  {
   "cell_type": "code",
   "execution_count": null,
   "id": "627f0bf4",
   "metadata": {},
   "outputs": [],
   "source": []
  }
 ],
 "metadata": {
  "kernelspec": {
   "display_name": "Python 3 (ipykernel)",
   "language": "python",
   "name": "python3"
  },
  "language_info": {
   "codemirror_mode": {
    "name": "ipython",
    "version": 3
   },
   "file_extension": ".py",
   "mimetype": "text/x-python",
   "name": "python",
   "nbconvert_exporter": "python",
   "pygments_lexer": "ipython3",
   "version": "3.9.7"
  }
 },
 "nbformat": 4,
 "nbformat_minor": 5
}
