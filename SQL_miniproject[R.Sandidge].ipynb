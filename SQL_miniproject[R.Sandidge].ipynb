{
 "cells": [
  {
   "cell_type": "markdown",
   "id": "9884efa2",
   "metadata": {},
   "source": [
    "/* Welcome to the SQL mini project. You will carry out this project partly in\n",
    "the PHPMyAdmin interface, and partly in Jupyter via a Python connection.\n",
    "\n",
    "This is Tier 1 of the case study, which means that there'll be more guidance for you about how to \n",
    "setup your local SQLite connection in PART 2 of the case study. \n",
    "\n",
    "The questions in the case study are exactly the same as with Tier 2. \n",
    "\n",
    "PART 1: PHPMyAdmin\n",
    "You will complete questions 1-9 below in the PHPMyAdmin interface. \n",
    "Log in by pasting the following URL into your browser, and\n",
    "using the following Username and Password:\n",
    "\n",
    "URL: https://sql.springboard.com/\n",
    "Username: student\n",
    "Password: learn_sql@springboard\n",
    "\n",
    "The data you need is in the \"country_club\" database. This database\n",
    "contains 3 tables:\n",
    "    i) the \"Bookings\" table,\n",
    "    ii) the \"Facilities\" table, and\n",
    "    iii) the \"Members\" table.\n",
    "\n",
    "In this case study, you'll be asked a series of questions. You can\n",
    "solve them using the platform, but for the final deliverable,\n",
    "paste the code for each solution into this script, and upload it\n",
    "to your GitHub.\n",
    "\n",
    "Before starting with the questions, feel free to take your time,\n",
    "exploring the data, and getting acquainted with the 3 tables. */"
   ]
  },
  {
   "cell_type": "markdown",
   "id": "453b5f5b",
   "metadata": {},
   "source": [
    "/* QUESTIONS"
   ]
  },
  {
   "cell_type": "code",
   "execution_count": null,
   "id": "4668c751",
   "metadata": {},
   "outputs": [],
   "source": [
    "/* Q1: Some of the facilities charge a fee to members, but some do not.\n",
    "Write a SQL query to produce a list of the names of the facilities that do. */\n",
    "\n",
    "SELECT membercost, name FROM Facilities WHERE membercost > 0"
   ]
  },
  {
   "cell_type": "code",
   "execution_count": null,
   "id": "62219d7b",
   "metadata": {},
   "outputs": [],
   "source": [
    "/* Q2: How many facilities do not charge a fee to members? */\n",
    "\n",
    "SELECT COUNT(name) \n",
    "FROM Facilities \n",
    "WHERE membercost = 0;"
   ]
  },
  {
   "cell_type": "code",
   "execution_count": null,
   "id": "0cbf65e4",
   "metadata": {},
   "outputs": [],
   "source": [
    "/* Q3: Write an SQL query to show a list of facilities that charge a fee to members,\n",
    "where the fee is less than 20% of the facility's monthly maintenance cost.\n",
    "Return the facid, facility name, member cost, and monthly maintenance of the\n",
    "facilities in question. */\n",
    "\n",
    "SELECT facid, name, membercost, monthlymaintenance \n",
    "FROM Facilities\n",
    "WHERE membercost >0 \n",
    "AND membercost < (monthlymaintenance * 0.2);"
   ]
  },
  {
   "cell_type": "code",
   "execution_count": null,
   "id": "1523b63b",
   "metadata": {},
   "outputs": [],
   "source": [
    "/* Q4: Write an SQL query to retrieve the details of facilities with ID 1 and 5.\n",
    "Try writing the query without using the OR operator. */\n",
    "\n",
    "SELECT * \n",
    "FROM Facilities \n",
    "WHERE facid != 0\n",
    "AND facid != 2\n",
    "AND facid != 3\n",
    "AND facid != 4\n",
    "AND facid != 6\n",
    "AND facid != 7\n",
    "AND facid != 8;"
   ]
  },
  {
   "cell_type": "code",
   "execution_count": null,
   "id": "2a016030",
   "metadata": {},
   "outputs": [],
   "source": [
    "/* Q5: Produce a list of facilities, with each labelled as\n",
    "'cheap' or 'expensive', depending on if their monthly maintenance cost is\n",
    "more than $100. Return the name and monthly maintenance of the facilities\n",
    "in question. */\n",
    "\n",
    "SELECT name, monthlymaintenance,\n",
    "CASE WHEN monthlymaintenance > 100 THEN 'expensive'\n",
    "WHEN monthlymaintenance < 100 THEN 'cheap'\n",
    "END as afford\n",
    "FROM Facilities;"
   ]
  },
  {
   "cell_type": "code",
   "execution_count": null,
   "id": "3b4e146b",
   "metadata": {},
   "outputs": [],
   "source": [
    "/* Q6: You'd like to get the first and last name of the last member(s)\n",
    "who signed up. Try not to use the LIMIT clause for your solution. */\n",
    "\n",
    "SELECT  firstname, surname \n",
    "FROM  Members, \n",
    "\t(select memid, max(starttime)\n",
    "\tfrom Bookings\n",
    "\tgroup by memid LIMIT 2) AS subquery\n",
    "WHERE Members.memid = subquery.memid\n",
    "order by surname DESC; "
   ]
  },
  {
   "cell_type": "code",
   "execution_count": null,
   "id": "f280789a",
   "metadata": {},
   "outputs": [],
   "source": [
    "/* Q7: Produce a list of all members who have used a tennis court.\n",
    "Include in your output the name of the court, and the name of the member\n",
    "formatted as a single column. Ensure no duplicate data, and order by\n",
    "the member name. */\n",
    "\n",
    "SELECT firstname, surname\n",
    "FROM Members\n",
    "WHERE Members.memid IN\n",
    "\t(SELECT DISTINCT memid\n",
    "\t FROM Bookings\n",
    "     WHERE facid = 0 OR facid = 2);"
   ]
  },
  {
   "cell_type": "code",
   "execution_count": null,
   "id": "8fabec73",
   "metadata": {},
   "outputs": [],
   "source": [
    "/* Q8: Produce a list of bookings on the day of 2012-09-14 which\n",
    "will cost the member (or guest) more than $30. Remember that guests have\n",
    "different costs to members (the listed costs are per half-hour 'slot'), and\n",
    "the guest user's ID is always 0. Include in your output the name of the\n",
    "facility, the name of the member formatted as a single column, and the cost.\n",
    "Order by descending cost, and do not use any subqueries. */\n",
    "\n",
    "\n",
    "SELECT\n",
    "  Bookings.facid,\n",
    "  Bookings.memid,\n",
    "  Bookings.starttime,\n",
    "  Bookings.slots,\n",
    "  Members.surname || ' ' || Members.firstname AS fullname,\n",
    "  Facilities.name,\n",
    "  Facilities.membercost,\n",
    "  Facilities.guestcost,\n",
    "  CASE WHEN Bookings.memid = 0 THEN Facilities.guestcost * Bookings.slots \n",
    "       ELSE Facilities.membercost * Bookings.slots \n",
    "       END AS cost\n",
    "FROM Bookings\n",
    "JOIN Members\n",
    "  ON Bookings.memid = Members.memid\n",
    "JOIN Facilities\n",
    "  ON Bookings.facid = Facilities.facid\n",
    "WHERE Bookings.starttime LIKE '2012-09-14%'\n",
    "AND CASE WHEN Bookings.memid = 0 THEN Facilities.guestcost * Bookings.slots \n",
    "         ELSE Facilities.membercost * Bookings.slots \n",
    "\t END > 30;"
   ]
  },
  {
   "cell_type": "code",
   "execution_count": null,
   "id": "cd528dfc",
   "metadata": {},
   "outputs": [],
   "source": [
    "/* Q9: This time, produce the same result as in Q8, but using a subquery. */\n",
    "\n",
    "SELECT * \n",
    "FROM (SELECT Facilities.name AS facility, \n",
    "      CONCAT(Members.firstname,  ' ', Members.surname) AS fullname, \n",
    "      CASE WHEN Bookings.memid =0 THEN Facilities.guestcost * Bookings.slots\n",
    "      ELSE Facilities.membercost * Bookings.slots\n",
    "      END AS cost\n",
    "FROM Bookings\n",
    "INNER JOIN Facilities ON Bookings.facid = Facilities.facid\n",
    "AND Bookings.starttime LIKE '2012-09-14%'\n",
    "INNER JOIN Members ON Bookings.memid = Members.memid) AS subquery\n",
    "WHERE subquery.cost >30\n",
    "ORDER BY subquery.cost DESC"
   ]
  },
  {
   "cell_type": "markdown",
   "id": "eafd4116",
   "metadata": {},
   "source": [
    "* PART 2: SQLite\n",
    "/* We now want you to jump over to a local instance of the database on your machine. \n",
    "\n",
    "Copy and paste the LocalSQLConnection.py script into an empty Jupyter notebook, and run it. \n",
    "\n",
    "Make sure that the SQLFiles folder containing thes files is in your working directory, and\n",
    "that you haven't changed the name of the .db file from 'sqlite\\db\\pythonsqlite'.\n",
    "\n",
    "You should see the output from the initial query 'SELECT * FROM FACILITIES'.\n",
    "\n",
    "Complete the remaining tasks in the Jupyter interface. If you struggle, feel free to go back\n",
    "to the PHPMyAdmin interface as and when you need to. \n",
    "\n",
    "You'll need to paste your query into value of the 'query1' variable and run the code block again to get an output.\n",
    " "
   ]
  },
  {
   "cell_type": "markdown",
   "id": "fd457d0b",
   "metadata": {},
   "source": [
    "QUESTIONS:"
   ]
  },
  {
   "cell_type": "code",
   "execution_count": 17,
   "id": "49f6da84",
   "metadata": {},
   "outputs": [
    {
     "name": "stdout",
     "output_type": "stream",
     "text": [
      "2.6.0\n",
      "2. Query all tasks\n",
      "('Pool Table', 270)\n",
      "('Snooker Table', 240)\n",
      "('Table Tennis', 180)\n"
     ]
    }
   ],
   "source": [
    "import sqlite3\n",
    "from sqlite3 import Error\n",
    "\n",
    " \n",
    "def create_connection(db_file):\n",
    "    \"\"\" create a database connection to the SQLite database\n",
    "        specified by the db_file\n",
    "    :param db_file: database file\n",
    "    :return: Connection object or None\n",
    "    \"\"\"\n",
    "    conn = None\n",
    "    try:\n",
    "        conn = sqlite3.connect(db_file)\n",
    "        print(sqlite3.version)\n",
    "    except Error as e:\n",
    "        print(e)\n",
    " \n",
    "    return conn\n",
    "\n",
    " \n",
    "def select_all_tasks(conn):\n",
    "    \"\"\"\n",
    "    Query all rows in the tasks table\n",
    "    :param conn: the Connection object\n",
    "    :return:\n",
    "    \"\"\"\n",
    "    cur = conn.cursor()\n",
    "    \n",
    "    query1 = \"\"\"\n",
    "SELECT * \n",
    "FROM (SELECT subquery.facility, SUM(subquery.cost) AS revenue\n",
    "FROM (SELECT Facilities.name AS facility, \n",
    "\tCASE WHEN Bookings.memid =0\n",
    "\tTHEN Facilities.guestcost * Bookings.slots\n",
    "\tELSE Facilities.membercost * Bookings.slots\n",
    "\tEND AS cost\n",
    "\tFROM Bookings\n",
    "\tINNER JOIN Facilities ON Bookings.facid = Facilities.facid\n",
    "\tINNER JOIN Members ON Bookings.memid = Members.memid) AS subquery\n",
    "GROUP BY subquery.facility) AS subquery_2\n",
    "WHERE subquery_2.revenue <1000\n",
    "        \"\"\"\n",
    "    cur.execute(query1)\n",
    " \n",
    "    rows = cur.fetchall()\n",
    " \n",
    "    for row in rows:\n",
    "        print(row)\n",
    "    \n",
    "\n",
    "def main():\n",
    "    database = \"sqlite_db_pythonsqlite.db\"\n",
    " \n",
    "    # create a database connection\n",
    "    conn = create_connection(database)\n",
    "    with conn: \n",
    "        print(\"2. Query all tasks\")\n",
    "        select_all_tasks(conn)\n",
    " \n",
    " \n",
    "if __name__ == '__main__':\n",
    "    main()"
   ]
  },
  {
   "cell_type": "code",
   "execution_count": null,
   "id": "df70085d",
   "metadata": {},
   "outputs": [],
   "source": [
    "/* Q10: Produce a list of facilities with a total revenue less than 1000.\n",
    "The output of facility name and total revenue, sorted by revenue. Remember\n",
    "that there's a different cost for guests and members! */\n",
    "\n",
    "SELECT * \n",
    "FROM (SELECT subquery.facility, SUM(subquery.cost) AS revenue\n",
    "FROM (SELECT Facilities.name AS facility, \n",
    "\tCASE WHEN Bookings.memid =0\n",
    "\tTHEN Facilities.guestcost * Bookings.slots\n",
    "\tELSE Facilities.membercost * Bookings.slots\n",
    "\tEND AS cost\n",
    "\tFROM Bookings\n",
    "\tINNER JOIN Facilities ON Bookings.facid = Facilities.facid\n",
    "\tINNER JOIN Members ON Bookings.memid = Members.memid) AS subquery\n",
    "GROUP BY subquery.facility) AS subquery_2\n",
    "WHERE subquery_2.revenue <1000"
   ]
  },
  {
   "cell_type": "code",
   "execution_count": null,
   "id": "35e689ca",
   "metadata": {},
   "outputs": [],
   "source": [
    "/* Q11: Produce a report of members and who recommended them in alphabetic surname,firstname order */\n",
    "\n",
    "SELECT m.firstname,\n",
    "       m.surname, \t    \n",
    "       m.recommendedby AS rec_id,\n",
    "       r.firstname AS rec_firstname,\n",
    "       r.surname AS rec_surname \n",
    "       FROM Members AS m\n",
    "LEFT JOIN Members AS r ON m.recommendedby = r.memid\n",
    "WHERE m.recommendedby != 0\n",
    "ORDER BY r.surname, r.firstname;"
   ]
  },
  {
   "cell_type": "code",
   "execution_count": null,
   "id": "86f1e0f0",
   "metadata": {},
   "outputs": [],
   "source": [
    "/* Q12: Find the facilities with their usage by member, but not guests */\n",
    "\n",
    "SELECT b.facid, COUNT( b.memid ) AS mems_used_by, f.name AS facility\n",
    "FROM (SELECT facid, memid\n",
    "      FROM Bookings\n",
    "      WHERE memid !=0) \n",
    "      AS b\n",
    "LEFT JOIN Facilities AS f ON b.facid = f.facid\n",
    "GROUP BY b.facid;\n"
   ]
  },
  {
   "cell_type": "code",
   "execution_count": null,
   "id": "6584b789",
   "metadata": {},
   "outputs": [],
   "source": [
    "/* Q13: Find the facilities usage by month, but not guests */\n",
    "\n",
    "SELECT b.months, COUNT( b.memid ) AS mems_used_by\n",
    "FROM (SELECT MONTH( starttime ) AS months, memid\n",
    "      FROM Bookings\n",
    "      WHERE memid !=0) \n",
    "      AS b\n",
    "GROUP BY b.months;"
   ]
  },
  {
   "cell_type": "code",
   "execution_count": null,
   "id": "d9915dd8",
   "metadata": {},
   "outputs": [],
   "source": []
  }
 ],
 "metadata": {
  "kernelspec": {
   "display_name": "Python 3 (ipykernel)",
   "language": "python",
   "name": "python3"
  },
  "language_info": {
   "codemirror_mode": {
    "name": "ipython",
    "version": 3
   },
   "file_extension": ".py",
   "mimetype": "text/x-python",
   "name": "python",
   "nbconvert_exporter": "python",
   "pygments_lexer": "ipython3",
   "version": "3.9.7"
  }
 },
 "nbformat": 4,
 "nbformat_minor": 5
}
